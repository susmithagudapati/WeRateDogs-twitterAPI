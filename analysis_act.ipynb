{
 "cells": [
  {
   "cell_type": "code",
   "execution_count": 79,
   "metadata": {},
   "outputs": [],
   "source": [
    "# import libraries\n",
    "\n",
    "import pandas as pd\n",
    "import matplotlib.pyplot as plt\n",
    "import numpy as np\n",
    "import seaborn as sns"
   ]
  },
  {
   "cell_type": "code",
   "execution_count": 80,
   "metadata": {},
   "outputs": [
    {
     "data": {
      "text/html": [
       "<div>\n",
       "<style>\n",
       "    .dataframe thead tr:only-child th {\n",
       "        text-align: right;\n",
       "    }\n",
       "\n",
       "    .dataframe thead th {\n",
       "        text-align: left;\n",
       "    }\n",
       "\n",
       "    .dataframe tbody tr th {\n",
       "        vertical-align: top;\n",
       "    }\n",
       "</style>\n",
       "<table border=\"1\" class=\"dataframe\">\n",
       "  <thead>\n",
       "    <tr style=\"text-align: right;\">\n",
       "      <th></th>\n",
       "      <th>tweet_id</th>\n",
       "      <th>in_reply_to_status_id</th>\n",
       "      <th>in_reply_to_user_id</th>\n",
       "      <th>timestamp</th>\n",
       "      <th>source</th>\n",
       "      <th>text</th>\n",
       "      <th>retweeted_status_id</th>\n",
       "      <th>retweeted_status_user_id</th>\n",
       "      <th>retweeted_status_timestamp</th>\n",
       "      <th>expanded_urls</th>\n",
       "      <th>...</th>\n",
       "      <th>p1_conf</th>\n",
       "      <th>p1_dog</th>\n",
       "      <th>p2</th>\n",
       "      <th>p2_conf</th>\n",
       "      <th>p2_dog</th>\n",
       "      <th>p3</th>\n",
       "      <th>p3_conf</th>\n",
       "      <th>p3_dog</th>\n",
       "      <th>favorite_count</th>\n",
       "      <th>retweet_count</th>\n",
       "    </tr>\n",
       "  </thead>\n",
       "  <tbody>\n",
       "    <tr>\n",
       "      <th>0</th>\n",
       "      <td>667435689202614272</td>\n",
       "      <td>NaN</td>\n",
       "      <td>NaN</td>\n",
       "      <td>2015-11-19 20:14:03</td>\n",
       "      <td>http://twitter.com/download/iphone</td>\n",
       "      <td>Ermergerd 12/10 https://t.co/PQni2sjPsm</td>\n",
       "      <td>NaN</td>\n",
       "      <td>NaN</td>\n",
       "      <td>NaN</td>\n",
       "      <td>https://twitter.com/dog_rates/status/667435689...</td>\n",
       "      <td>...</td>\n",
       "      <td>0.999091</td>\n",
       "      <td>True</td>\n",
       "      <td>miniature_pinscher</td>\n",
       "      <td>0.000450</td>\n",
       "      <td>True</td>\n",
       "      <td>black-and-tan_coonhound</td>\n",
       "      <td>0.000157</td>\n",
       "      <td>True</td>\n",
       "      <td>308</td>\n",
       "      <td>85</td>\n",
       "    </tr>\n",
       "    <tr>\n",
       "      <th>1</th>\n",
       "      <td>667437278097252352</td>\n",
       "      <td>NaN</td>\n",
       "      <td>NaN</td>\n",
       "      <td>2015-11-19 20:20:22</td>\n",
       "      <td>http://twitter.com/download/iphone</td>\n",
       "      <td>Never seen this breed before. Very pointy pup....</td>\n",
       "      <td>NaN</td>\n",
       "      <td>NaN</td>\n",
       "      <td>NaN</td>\n",
       "      <td>https://twitter.com/dog_rates/status/667437278...</td>\n",
       "      <td>...</td>\n",
       "      <td>0.989154</td>\n",
       "      <td>False</td>\n",
       "      <td>bath_towel</td>\n",
       "      <td>0.006300</td>\n",
       "      <td>False</td>\n",
       "      <td>badger</td>\n",
       "      <td>0.000966</td>\n",
       "      <td>False</td>\n",
       "      <td>453</td>\n",
       "      <td>245</td>\n",
       "    </tr>\n",
       "    <tr>\n",
       "      <th>2</th>\n",
       "      <td>667443425659232256</td>\n",
       "      <td>NaN</td>\n",
       "      <td>NaN</td>\n",
       "      <td>2015-11-19 20:44:47</td>\n",
       "      <td>http://twitter.com/download/iphone</td>\n",
       "      <td>Exotic dog here. Long neck. Weird paws. Obsess...</td>\n",
       "      <td>NaN</td>\n",
       "      <td>NaN</td>\n",
       "      <td>NaN</td>\n",
       "      <td>https://twitter.com/dog_rates/status/667443425...</td>\n",
       "      <td>...</td>\n",
       "      <td>0.980815</td>\n",
       "      <td>False</td>\n",
       "      <td>drake</td>\n",
       "      <td>0.006918</td>\n",
       "      <td>False</td>\n",
       "      <td>hen</td>\n",
       "      <td>0.005255</td>\n",
       "      <td>False</td>\n",
       "      <td>800</td>\n",
       "      <td>594</td>\n",
       "    </tr>\n",
       "    <tr>\n",
       "      <th>3</th>\n",
       "      <td>667453023279554560</td>\n",
       "      <td>NaN</td>\n",
       "      <td>NaN</td>\n",
       "      <td>2015-11-19 21:22:56</td>\n",
       "      <td>http://twitter.com/download/iphone</td>\n",
       "      <td>Meet Cupcake. I would do unspeakable things fo...</td>\n",
       "      <td>NaN</td>\n",
       "      <td>NaN</td>\n",
       "      <td>NaN</td>\n",
       "      <td>https://twitter.com/dog_rates/status/667453023...</td>\n",
       "      <td>...</td>\n",
       "      <td>0.825670</td>\n",
       "      <td>True</td>\n",
       "      <td>French_bulldog</td>\n",
       "      <td>0.056639</td>\n",
       "      <td>True</td>\n",
       "      <td>Staffordshire_bullterrier</td>\n",
       "      <td>0.054018</td>\n",
       "      <td>True</td>\n",
       "      <td>319</td>\n",
       "      <td>91</td>\n",
       "    </tr>\n",
       "    <tr>\n",
       "      <th>4</th>\n",
       "      <td>667455448082227200</td>\n",
       "      <td>NaN</td>\n",
       "      <td>NaN</td>\n",
       "      <td>2015-11-19 21:32:34</td>\n",
       "      <td>http://twitter.com/download/iphone</td>\n",
       "      <td>This is Reese and Twips. Reese protects Twips....</td>\n",
       "      <td>NaN</td>\n",
       "      <td>NaN</td>\n",
       "      <td>NaN</td>\n",
       "      <td>https://twitter.com/dog_rates/status/667455448...</td>\n",
       "      <td>...</td>\n",
       "      <td>0.676376</td>\n",
       "      <td>True</td>\n",
       "      <td>Irish_terrier</td>\n",
       "      <td>0.054933</td>\n",
       "      <td>True</td>\n",
       "      <td>Yorkshire_terrier</td>\n",
       "      <td>0.040576</td>\n",
       "      <td>True</td>\n",
       "      <td>194</td>\n",
       "      <td>60</td>\n",
       "    </tr>\n",
       "  </tbody>\n",
       "</table>\n",
       "<p>5 rows × 27 columns</p>\n",
       "</div>"
      ],
      "text/plain": [
       "             tweet_id  in_reply_to_status_id  in_reply_to_user_id  \\\n",
       "0  667435689202614272                    NaN                  NaN   \n",
       "1  667437278097252352                    NaN                  NaN   \n",
       "2  667443425659232256                    NaN                  NaN   \n",
       "3  667453023279554560                    NaN                  NaN   \n",
       "4  667455448082227200                    NaN                  NaN   \n",
       "\n",
       "             timestamp                              source  \\\n",
       "0  2015-11-19 20:14:03  http://twitter.com/download/iphone   \n",
       "1  2015-11-19 20:20:22  http://twitter.com/download/iphone   \n",
       "2  2015-11-19 20:44:47  http://twitter.com/download/iphone   \n",
       "3  2015-11-19 21:22:56  http://twitter.com/download/iphone   \n",
       "4  2015-11-19 21:32:34  http://twitter.com/download/iphone   \n",
       "\n",
       "                                                text  retweeted_status_id  \\\n",
       "0            Ermergerd 12/10 https://t.co/PQni2sjPsm                  NaN   \n",
       "1  Never seen this breed before. Very pointy pup....                  NaN   \n",
       "2  Exotic dog here. Long neck. Weird paws. Obsess...                  NaN   \n",
       "3  Meet Cupcake. I would do unspeakable things fo...                  NaN   \n",
       "4  This is Reese and Twips. Reese protects Twips....                  NaN   \n",
       "\n",
       "   retweeted_status_user_id retweeted_status_timestamp  \\\n",
       "0                       NaN                        NaN   \n",
       "1                       NaN                        NaN   \n",
       "2                       NaN                        NaN   \n",
       "3                       NaN                        NaN   \n",
       "4                       NaN                        NaN   \n",
       "\n",
       "                                       expanded_urls      ...        p1_conf  \\\n",
       "0  https://twitter.com/dog_rates/status/667435689...      ...       0.999091   \n",
       "1  https://twitter.com/dog_rates/status/667437278...      ...       0.989154   \n",
       "2  https://twitter.com/dog_rates/status/667443425...      ...       0.980815   \n",
       "3  https://twitter.com/dog_rates/status/667453023...      ...       0.825670   \n",
       "4  https://twitter.com/dog_rates/status/667455448...      ...       0.676376   \n",
       "\n",
       "   p1_dog                  p2   p2_conf p2_dog                         p3  \\\n",
       "0    True  miniature_pinscher  0.000450   True    black-and-tan_coonhound   \n",
       "1   False          bath_towel  0.006300  False                     badger   \n",
       "2   False               drake  0.006918  False                        hen   \n",
       "3    True      French_bulldog  0.056639   True  Staffordshire_bullterrier   \n",
       "4    True       Irish_terrier  0.054933   True          Yorkshire_terrier   \n",
       "\n",
       "    p3_conf  p3_dog  favorite_count retweet_count  \n",
       "0  0.000157    True             308            85  \n",
       "1  0.000966   False             453           245  \n",
       "2  0.005255   False             800           594  \n",
       "3  0.054018    True             319            91  \n",
       "4  0.040576    True             194            60  \n",
       "\n",
       "[5 rows x 27 columns]"
      ]
     },
     "execution_count": 80,
     "metadata": {},
     "output_type": "execute_result"
    }
   ],
   "source": [
    "# load data\n",
    "\n",
    "df = pd.read_csv('twitter_archive_master.csv')\n",
    "df.head()"
   ]
  },
  {
   "cell_type": "code",
   "execution_count": 81,
   "metadata": {},
   "outputs": [
    {
     "data": {
      "text/plain": [
       "(2006, 27)"
      ]
     },
     "execution_count": 81,
     "metadata": {},
     "output_type": "execute_result"
    }
   ],
   "source": [
    "df.shape"
   ]
  },
  {
   "cell_type": "code",
   "execution_count": 82,
   "metadata": {},
   "outputs": [
    {
     "name": "stdout",
     "output_type": "stream",
     "text": [
      "<class 'pandas.core.frame.DataFrame'>\n",
      "RangeIndex: 2006 entries, 0 to 2005\n",
      "Data columns (total 27 columns):\n",
      "tweet_id                      2006 non-null int64\n",
      "in_reply_to_status_id         23 non-null float64\n",
      "in_reply_to_user_id           23 non-null float64\n",
      "timestamp                     2006 non-null object\n",
      "source                        2006 non-null object\n",
      "text                          2006 non-null object\n",
      "retweeted_status_id           13 non-null float64\n",
      "retweeted_status_user_id      13 non-null float64\n",
      "retweeted_status_timestamp    13 non-null object\n",
      "expanded_urls                 2006 non-null object\n",
      "rating_numerator              2006 non-null float64\n",
      "rating_denominator            2006 non-null float64\n",
      "name                          1352 non-null object\n",
      "dog_stage                     309 non-null object\n",
      "jpg_url                       2006 non-null object\n",
      "img_num                       2006 non-null int64\n",
      "p1                            2006 non-null object\n",
      "p1_conf                       2006 non-null float64\n",
      "p1_dog                        2006 non-null bool\n",
      "p2                            2006 non-null object\n",
      "p2_conf                       2006 non-null float64\n",
      "p2_dog                        2006 non-null bool\n",
      "p3                            2006 non-null object\n",
      "p3_conf                       2006 non-null float64\n",
      "p3_dog                        2006 non-null bool\n",
      "favorite_count                2006 non-null int64\n",
      "retweet_count                 2006 non-null int64\n",
      "dtypes: bool(3), float64(9), int64(4), object(11)\n",
      "memory usage: 382.1+ KB\n"
     ]
    }
   ],
   "source": [
    "df.info()"
   ]
  },
  {
   "cell_type": "code",
   "execution_count": 83,
   "metadata": {},
   "outputs": [
    {
     "data": {
      "text/html": [
       "<div>\n",
       "<style>\n",
       "    .dataframe thead tr:only-child th {\n",
       "        text-align: right;\n",
       "    }\n",
       "\n",
       "    .dataframe thead th {\n",
       "        text-align: left;\n",
       "    }\n",
       "\n",
       "    .dataframe tbody tr th {\n",
       "        vertical-align: top;\n",
       "    }\n",
       "</style>\n",
       "<table border=\"1\" class=\"dataframe\">\n",
       "  <thead>\n",
       "    <tr style=\"text-align: right;\">\n",
       "      <th></th>\n",
       "      <th>tweet_id</th>\n",
       "      <th>in_reply_to_status_id</th>\n",
       "      <th>in_reply_to_user_id</th>\n",
       "      <th>retweeted_status_id</th>\n",
       "      <th>retweeted_status_user_id</th>\n",
       "      <th>rating_numerator</th>\n",
       "      <th>rating_denominator</th>\n",
       "      <th>img_num</th>\n",
       "      <th>p1_conf</th>\n",
       "      <th>p2_conf</th>\n",
       "      <th>p3_conf</th>\n",
       "      <th>favorite_count</th>\n",
       "      <th>retweet_count</th>\n",
       "    </tr>\n",
       "  </thead>\n",
       "  <tbody>\n",
       "    <tr>\n",
       "      <th>count</th>\n",
       "      <td>2.006000e+03</td>\n",
       "      <td>2.300000e+01</td>\n",
       "      <td>2.300000e+01</td>\n",
       "      <td>1.300000e+01</td>\n",
       "      <td>1.300000e+01</td>\n",
       "      <td>2006.000000</td>\n",
       "      <td>2006.000000</td>\n",
       "      <td>2006.000000</td>\n",
       "      <td>2006.000000</td>\n",
       "      <td>2.006000e+03</td>\n",
       "      <td>2.006000e+03</td>\n",
       "      <td>2006.000000</td>\n",
       "      <td>2006.000000</td>\n",
       "    </tr>\n",
       "    <tr>\n",
       "      <th>mean</th>\n",
       "      <td>7.362583e+17</td>\n",
       "      <td>6.978112e+17</td>\n",
       "      <td>4.196984e+09</td>\n",
       "      <td>7.996277e+17</td>\n",
       "      <td>6.057398e+16</td>\n",
       "      <td>12.233689</td>\n",
       "      <td>10.528913</td>\n",
       "      <td>1.202891</td>\n",
       "      <td>0.594757</td>\n",
       "      <td>1.340317e-01</td>\n",
       "      <td>6.013345e-02</td>\n",
       "      <td>8737.509472</td>\n",
       "      <td>2667.750249</td>\n",
       "    </tr>\n",
       "    <tr>\n",
       "      <th>std</th>\n",
       "      <td>6.772445e+16</td>\n",
       "      <td>4.359384e+16</td>\n",
       "      <td>0.000000e+00</td>\n",
       "      <td>7.506459e+16</td>\n",
       "      <td>2.184026e+17</td>\n",
       "      <td>41.347369</td>\n",
       "      <td>7.298885</td>\n",
       "      <td>0.559846</td>\n",
       "      <td>0.272257</td>\n",
       "      <td>1.006489e-01</td>\n",
       "      <td>5.085193e-02</td>\n",
       "      <td>12793.560818</td>\n",
       "      <td>4748.140792</td>\n",
       "    </tr>\n",
       "    <tr>\n",
       "      <th>min</th>\n",
       "      <td>6.660209e+17</td>\n",
       "      <td>6.671522e+17</td>\n",
       "      <td>4.196984e+09</td>\n",
       "      <td>6.675484e+17</td>\n",
       "      <td>7.832140e+05</td>\n",
       "      <td>0.000000</td>\n",
       "      <td>2.000000</td>\n",
       "      <td>1.000000</td>\n",
       "      <td>0.044333</td>\n",
       "      <td>1.011300e-08</td>\n",
       "      <td>1.740170e-10</td>\n",
       "      <td>0.000000</td>\n",
       "      <td>12.000000</td>\n",
       "    </tr>\n",
       "    <tr>\n",
       "      <th>25%</th>\n",
       "      <td>6.758575e+17</td>\n",
       "      <td>6.732411e+17</td>\n",
       "      <td>4.196984e+09</td>\n",
       "      <td>7.575971e+17</td>\n",
       "      <td>3.410211e+08</td>\n",
       "      <td>10.000000</td>\n",
       "      <td>10.000000</td>\n",
       "      <td>1.000000</td>\n",
       "      <td>0.363008</td>\n",
       "      <td>5.361625e-02</td>\n",
       "      <td>1.606823e-02</td>\n",
       "      <td>1837.750000</td>\n",
       "      <td>591.250000</td>\n",
       "    </tr>\n",
       "    <tr>\n",
       "      <th>50%</th>\n",
       "      <td>7.088226e+17</td>\n",
       "      <td>6.757073e+17</td>\n",
       "      <td>4.196984e+09</td>\n",
       "      <td>8.389060e+17</td>\n",
       "      <td>5.128045e+08</td>\n",
       "      <td>11.000000</td>\n",
       "      <td>10.000000</td>\n",
       "      <td>1.000000</td>\n",
       "      <td>0.588620</td>\n",
       "      <td>1.169900e-01</td>\n",
       "      <td>4.945765e-02</td>\n",
       "      <td>3919.500000</td>\n",
       "      <td>1280.500000</td>\n",
       "    </tr>\n",
       "    <tr>\n",
       "      <th>75%</th>\n",
       "      <td>7.886775e+17</td>\n",
       "      <td>7.031489e+17</td>\n",
       "      <td>4.196984e+09</td>\n",
       "      <td>8.482894e+17</td>\n",
       "      <td>1.228326e+09</td>\n",
       "      <td>12.000000</td>\n",
       "      <td>10.000000</td>\n",
       "      <td>1.000000</td>\n",
       "      <td>0.848095</td>\n",
       "      <td>1.948895e-01</td>\n",
       "      <td>9.155482e-02</td>\n",
       "      <td>10934.750000</td>\n",
       "      <td>3046.750000</td>\n",
       "    </tr>\n",
       "    <tr>\n",
       "      <th>max</th>\n",
       "      <td>8.924206e+17</td>\n",
       "      <td>8.558181e+17</td>\n",
       "      <td>4.196984e+09</td>\n",
       "      <td>8.768508e+17</td>\n",
       "      <td>7.874618e+17</td>\n",
       "      <td>1776.000000</td>\n",
       "      <td>170.000000</td>\n",
       "      <td>4.000000</td>\n",
       "      <td>1.000000</td>\n",
       "      <td>4.880140e-01</td>\n",
       "      <td>2.734190e-01</td>\n",
       "      <td>164894.000000</td>\n",
       "      <td>84501.000000</td>\n",
       "    </tr>\n",
       "  </tbody>\n",
       "</table>\n",
       "</div>"
      ],
      "text/plain": [
       "           tweet_id  in_reply_to_status_id  in_reply_to_user_id  \\\n",
       "count  2.006000e+03           2.300000e+01         2.300000e+01   \n",
       "mean   7.362583e+17           6.978112e+17         4.196984e+09   \n",
       "std    6.772445e+16           4.359384e+16         0.000000e+00   \n",
       "min    6.660209e+17           6.671522e+17         4.196984e+09   \n",
       "25%    6.758575e+17           6.732411e+17         4.196984e+09   \n",
       "50%    7.088226e+17           6.757073e+17         4.196984e+09   \n",
       "75%    7.886775e+17           7.031489e+17         4.196984e+09   \n",
       "max    8.924206e+17           8.558181e+17         4.196984e+09   \n",
       "\n",
       "       retweeted_status_id  retweeted_status_user_id  rating_numerator  \\\n",
       "count         1.300000e+01              1.300000e+01       2006.000000   \n",
       "mean          7.996277e+17              6.057398e+16         12.233689   \n",
       "std           7.506459e+16              2.184026e+17         41.347369   \n",
       "min           6.675484e+17              7.832140e+05          0.000000   \n",
       "25%           7.575971e+17              3.410211e+08         10.000000   \n",
       "50%           8.389060e+17              5.128045e+08         11.000000   \n",
       "75%           8.482894e+17              1.228326e+09         12.000000   \n",
       "max           8.768508e+17              7.874618e+17       1776.000000   \n",
       "\n",
       "       rating_denominator      img_num      p1_conf       p2_conf  \\\n",
       "count         2006.000000  2006.000000  2006.000000  2.006000e+03   \n",
       "mean            10.528913     1.202891     0.594757  1.340317e-01   \n",
       "std              7.298885     0.559846     0.272257  1.006489e-01   \n",
       "min              2.000000     1.000000     0.044333  1.011300e-08   \n",
       "25%             10.000000     1.000000     0.363008  5.361625e-02   \n",
       "50%             10.000000     1.000000     0.588620  1.169900e-01   \n",
       "75%             10.000000     1.000000     0.848095  1.948895e-01   \n",
       "max            170.000000     4.000000     1.000000  4.880140e-01   \n",
       "\n",
       "            p3_conf  favorite_count  retweet_count  \n",
       "count  2.006000e+03     2006.000000    2006.000000  \n",
       "mean   6.013345e-02     8737.509472    2667.750249  \n",
       "std    5.085193e-02    12793.560818    4748.140792  \n",
       "min    1.740170e-10        0.000000      12.000000  \n",
       "25%    1.606823e-02     1837.750000     591.250000  \n",
       "50%    4.945765e-02     3919.500000    1280.500000  \n",
       "75%    9.155482e-02    10934.750000    3046.750000  \n",
       "max    2.734190e-01   164894.000000   84501.000000  "
      ]
     },
     "execution_count": 83,
     "metadata": {},
     "output_type": "execute_result"
    }
   ],
   "source": [
    "df.describe()"
   ]
  },
  {
   "cell_type": "markdown",
   "metadata": {},
   "source": [
    "### Which stage has the highest number of posts?"
   ]
  },
  {
   "cell_type": "code",
   "execution_count": 84,
   "metadata": {},
   "outputs": [],
   "source": [
    "stages_count = df.dog_stage.value_counts()"
   ]
  },
  {
   "cell_type": "code",
   "execution_count": 85,
   "metadata": {},
   "outputs": [
    {
     "data": {
      "text/plain": [
       "pupper     215\n",
       "doggo       63\n",
       "puppo       23\n",
       "floofer      8\n",
       "Name: dog_stage, dtype: int64"
      ]
     },
     "execution_count": 85,
     "metadata": {},
     "output_type": "execute_result"
    }
   ],
   "source": [
    "stages_count"
   ]
  },
  {
   "cell_type": "code",
   "execution_count": 86,
   "metadata": {},
   "outputs": [
    {
     "data": {
      "text/plain": [
       "Text(0,0.5,'Frequency')"
      ]
     },
     "execution_count": 86,
     "metadata": {},
     "output_type": "execute_result"
    },
    {
     "data": {
      "image/png": "[encoded data removed]",
      "text/plain": [
       "<matplotlib.figure.Figure at 0x7efe10810cc0>"
      ]
     },
     "metadata": {},
     "output_type": "display_data"
    }
   ],
   "source": [
    "# plot the graph\n",
    "stages_count.plot(kind='bar')\n",
    "plt.title('Dog stages frequency')\n",
    "plt.xlabel('Dog stages')\n",
    "plt.ylabel('Frequency')"
   ]
  },
  {
   "cell_type": "markdown",
   "metadata": {},
   "source": [
    "### Does dog_stage has any influence on favorite_count and retweet_count?"
   ]
  },
  {
   "cell_type": "code",
   "execution_count": 87,
   "metadata": {},
   "outputs": [],
   "source": [
    "# remove nan from stages list\n",
    "stages = df.dog_stage.unique()\n",
    "stages = np.delete(stages, 0)"
   ]
  },
  {
   "cell_type": "code",
   "execution_count": 88,
   "metadata": {},
   "outputs": [
    {
     "data": {
      "text/plain": [
       "([1273491, 106159, 1546406, 530232], [450270, 36488, 498306, 158458])"
      ]
     },
     "execution_count": 88,
     "metadata": {},
     "output_type": "execute_result"
    }
   ],
   "source": [
    "# get favorite and retweet count for each stage in the stages list\n",
    "favorite_count = []\n",
    "retweet_count = []\n",
    "for stage in stages:\n",
    "    stage_df = df.query('dog_stage == @stage')\n",
    "    favorite_count.append(sum(stage_df.favorite_count))\n",
    "    retweet_count.append(sum(stage_df.retweet_count))\n",
    "favorite_count, retweet_count"
   ]
  },
  {
   "cell_type": "code",
   "execution_count": 89,
   "metadata": {},
   "outputs": [
    {
     "data": {
      "text/plain": [
       "Text(0,0.5,'Favorite counts')"
      ]
     },
     "execution_count": 89,
     "metadata": {},
     "output_type": "execute_result"
    },
    {
     "data": {
      "image/png": "[encoded data removed]",
      "text/plain": [
       "<matplotlib.figure.Figure at 0x7efe10bade10>"
      ]
     },
     "metadata": {},
     "output_type": "display_data"
    }
   ],
   "source": [
    "# plot the graph\n",
    "\n",
    "plt.bar(x=stages, height=favorite_count)\n",
    "plt.title('Influence of stage on favorite counts')\n",
    "plt.xlabel('Dog stages')\n",
    "plt.ylabel('Favorite counts')"
   ]
  },
  {
   "cell_type": "code",
   "execution_count": 90,
   "metadata": {},
   "outputs": [
    {
     "data": {
      "text/plain": [
       "Text(0,0.5,'Retweet count')"
      ]
     },
     "execution_count": 90,
     "metadata": {},
     "output_type": "execute_result"
    },
    {
     "data": {
      "image/png": "[encoded data removed]",
      "text/plain": [
       "<matplotlib.figure.Figure at 0x7efe10b5b128>"
      ]
     },
     "metadata": {},
     "output_type": "display_data"
    }
   ],
   "source": [
    "plt.bar(x=stages, height=retweet_count)\n",
    "plt.title('Influence of stage on retweet counts')\n",
    "plt.xlabel('Dog stage')\n",
    "plt.ylabel('Retweet count')"
   ]
  },
  {
   "cell_type": "markdown",
   "metadata": {},
   "source": [
    "### Is there any correlation between favorite and retweet counts?"
   ]
  },
  {
   "cell_type": "code",
   "execution_count": 91,
   "metadata": {},
   "outputs": [
    {
     "data": {
      "text/plain": [
       "Text(0.5,0.98,'Correlation between favorite & retweet counts')"
      ]
     },
     "execution_count": 91,
     "metadata": {},
     "output_type": "execute_result"
    },
    {
     "data": {
      "image/png": "[encoded data removed]",
      "text/plain": [
       "<matplotlib.figure.Figure at 0x7efe10b9e400>"
      ]
     },
     "metadata": {},
     "output_type": "display_data"
    }
   ],
   "source": [
    "# plot the relation between retweet and favorite counts\n",
    "s = sns.jointplot(x=\"retweet_count\", y=\"favorite_count\", data=df, kind=\"kde\", size=8)\n",
    "s.plot_joint(plt.scatter, c=\"black\", s=80, linewidth=1, marker=\".\")\n",
    "s.set_axis_labels(\"Retweet Count\", \"Favorite Count\",fontsize=12)\n",
    "plt.suptitle('Correlation between favorite & retweet counts',fontsize=12)"
   ]
  },
  {
   "cell_type": "markdown",
   "metadata": {},
   "source": [
    "### Insights"
   ]
  },
  {
   "cell_type": "markdown",
   "metadata": {},
   "source": [
    " - There exists a positive correlation between retweets and favorite counts. \n",
    " - Among the 4 dog stages, pupper has the highest frequency.\n",
    " - Pupper also gets the highest number of favorite and retweet counts, followed by doggo, puppo, floofer."
   ]
  }
 ],
 "metadata": {
  "kernelspec": {
   "display_name": "Python 3",
   "language": "python",
   "name": "python3"
  },
  "language_info": {
   "codemirror_mode": {
    "name": "ipython",
    "version": 3
   },
   "file_extension": ".py",
   "mimetype": "text/x-python",
   "name": "python",
   "nbconvert_exporter": "python",
   "pygments_lexer": "ipython3",
   "version": "3.6.3"
  }
 },
 "nbformat": 4,
 "nbformat_minor": 2
}
