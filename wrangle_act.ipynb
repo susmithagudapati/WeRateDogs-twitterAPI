{
 "cells": [
  {
   "cell_type": "code",
   "execution_count": 1,
   "metadata": {},
   "outputs": [],
   "source": [
    "# import libraries\n",
    "\n",
    "import pandas as pd\n",
    "import requests\n",
    "import time\n",
    "import json\n",
    "import tweepy\n",
    "import os"
   ]
  },
  {
   "cell_type": "code",
   "execution_count": 2,
   "metadata": {},
   "outputs": [
    {
     "data": {
      "text/html": [
       "<div>\n",
       "<style>\n",
       "    .dataframe thead tr:only-child th {\n",
       "        text-align: right;\n",
       "    }\n",
       "\n",
       "    .dataframe thead th {\n",
       "        text-align: left;\n",
       "    }\n",
       "\n",
       "    .dataframe tbody tr th {\n",
       "        vertical-align: top;\n",
       "    }\n",
       "</style>\n",
       "<table border=\"1\" class=\"dataframe\">\n",
       "  <thead>\n",
       "    <tr style=\"text-align: right;\">\n",
       "      <th></th>\n",
       "      <th>tweet_id</th>\n",
       "      <th>in_reply_to_status_id</th>\n",
       "      <th>in_reply_to_user_id</th>\n",
       "      <th>timestamp</th>\n",
       "      <th>source</th>\n",
       "      <th>text</th>\n",
       "      <th>retweeted_status_id</th>\n",
       "      <th>retweeted_status_user_id</th>\n",
       "      <th>retweeted_status_timestamp</th>\n",
       "      <th>expanded_urls</th>\n",
       "      <th>rating_numerator</th>\n",
       "      <th>rating_denominator</th>\n",
       "      <th>name</th>\n",
       "      <th>doggo</th>\n",
       "      <th>floofer</th>\n",
       "      <th>pupper</th>\n",
       "      <th>puppo</th>\n",
       "    </tr>\n",
       "  </thead>\n",
       "  <tbody>\n",
       "    <tr>\n",
       "      <th>0</th>\n",
       "      <td>892420643555336193</td>\n",
       "      <td>NaN</td>\n",
       "      <td>NaN</td>\n",
       "      <td>2017-08-01 16:23:56 +0000</td>\n",
       "      <td>&lt;a href=\"http://twitter.com/download/iphone\" r...</td>\n",
       "      <td>This is Phineas. He's a mystical boy. Only eve...</td>\n",
       "      <td>NaN</td>\n",
       "      <td>NaN</td>\n",
       "      <td>NaN</td>\n",
       "      <td>https://twitter.com/dog_rates/status/892420643...</td>\n",
       "      <td>13</td>\n",
       "      <td>10</td>\n",
       "      <td>Phineas</td>\n",
       "      <td>None</td>\n",
       "      <td>None</td>\n",
       "      <td>None</td>\n",
       "      <td>None</td>\n",
       "    </tr>\n",
       "    <tr>\n",
       "      <th>1</th>\n",
       "      <td>892177421306343426</td>\n",
       "      <td>NaN</td>\n",
       "      <td>NaN</td>\n",
       "      <td>2017-08-01 00:17:27 +0000</td>\n",
       "      <td>&lt;a href=\"http://twitter.com/download/iphone\" r...</td>\n",
       "      <td>This is Tilly. She's just checking pup on you....</td>\n",
       "      <td>NaN</td>\n",
       "      <td>NaN</td>\n",
       "      <td>NaN</td>\n",
       "      <td>https://twitter.com/dog_rates/status/892177421...</td>\n",
       "      <td>13</td>\n",
       "      <td>10</td>\n",
       "      <td>Tilly</td>\n",
       "      <td>None</td>\n",
       "      <td>None</td>\n",
       "      <td>None</td>\n",
       "      <td>None</td>\n",
       "    </tr>\n",
       "    <tr>\n",
       "      <th>2</th>\n",
       "      <td>891815181378084864</td>\n",
       "      <td>NaN</td>\n",
       "      <td>NaN</td>\n",
       "      <td>2017-07-31 00:18:03 +0000</td>\n",
       "      <td>&lt;a href=\"http://twitter.com/download/iphone\" r...</td>\n",
       "      <td>This is Archie. He is a rare Norwegian Pouncin...</td>\n",
       "      <td>NaN</td>\n",
       "      <td>NaN</td>\n",
       "      <td>NaN</td>\n",
       "      <td>https://twitter.com/dog_rates/status/891815181...</td>\n",
       "      <td>12</td>\n",
       "      <td>10</td>\n",
       "      <td>Archie</td>\n",
       "      <td>None</td>\n",
       "      <td>None</td>\n",
       "      <td>None</td>\n",
       "      <td>None</td>\n",
       "    </tr>\n",
       "    <tr>\n",
       "      <th>3</th>\n",
       "      <td>891689557279858688</td>\n",
       "      <td>NaN</td>\n",
       "      <td>NaN</td>\n",
       "      <td>2017-07-30 15:58:51 +0000</td>\n",
       "      <td>&lt;a href=\"http://twitter.com/download/iphone\" r...</td>\n",
       "      <td>This is Darla. She commenced a snooze mid meal...</td>\n",
       "      <td>NaN</td>\n",
       "      <td>NaN</td>\n",
       "      <td>NaN</td>\n",
       "      <td>https://twitter.com/dog_rates/status/891689557...</td>\n",
       "      <td>13</td>\n",
       "      <td>10</td>\n",
       "      <td>Darla</td>\n",
       "      <td>None</td>\n",
       "      <td>None</td>\n",
       "      <td>None</td>\n",
       "      <td>None</td>\n",
       "    </tr>\n",
       "    <tr>\n",
       "      <th>4</th>\n",
       "      <td>891327558926688256</td>\n",
       "      <td>NaN</td>\n",
       "      <td>NaN</td>\n",
       "      <td>2017-07-29 16:00:24 +0000</td>\n",
       "      <td>&lt;a href=\"http://twitter.com/download/iphone\" r...</td>\n",
       "      <td>This is Franklin. He would like you to stop ca...</td>\n",
       "      <td>NaN</td>\n",
       "      <td>NaN</td>\n",
       "      <td>NaN</td>\n",
       "      <td>https://twitter.com/dog_rates/status/891327558...</td>\n",
       "      <td>12</td>\n",
       "      <td>10</td>\n",
       "      <td>Franklin</td>\n",
       "      <td>None</td>\n",
       "      <td>None</td>\n",
       "      <td>None</td>\n",
       "      <td>None</td>\n",
       "    </tr>\n",
       "  </tbody>\n",
       "</table>\n",
       "</div>"
      ],
      "text/plain": [
       "             tweet_id  in_reply_to_status_id  in_reply_to_user_id  \\\n",
       "0  892420643555336193                    NaN                  NaN   \n",
       "1  892177421306343426                    NaN                  NaN   \n",
       "2  891815181378084864                    NaN                  NaN   \n",
       "3  891689557279858688                    NaN                  NaN   \n",
       "4  891327558926688256                    NaN                  NaN   \n",
       "\n",
       "                   timestamp  \\\n",
       "0  2017-08-01 16:23:56 +0000   \n",
       "1  2017-08-01 00:17:27 +0000   \n",
       "2  2017-07-31 00:18:03 +0000   \n",
       "3  2017-07-30 15:58:51 +0000   \n",
       "4  2017-07-29 16:00:24 +0000   \n",
       "\n",
       "                                              source  \\\n",
       "0  <a href=\"http://twitter.com/download/iphone\" r...   \n",
       "1  <a href=\"http://twitter.com/download/iphone\" r...   \n",
       "2  <a href=\"http://twitter.com/download/iphone\" r...   \n",
       "3  <a href=\"http://twitter.com/download/iphone\" r...   \n",
       "4  <a href=\"http://twitter.com/download/iphone\" r...   \n",
       "\n",
       "                                                text  retweeted_status_id  \\\n",
       "0  This is Phineas. He's a mystical boy. Only eve...                  NaN   \n",
       "1  This is Tilly. She's just checking pup on you....                  NaN   \n",
       "2  This is Archie. He is a rare Norwegian Pouncin...                  NaN   \n",
       "3  This is Darla. She commenced a snooze mid meal...                  NaN   \n",
       "4  This is Franklin. He would like you to stop ca...                  NaN   \n",
       "\n",
       "   retweeted_status_user_id retweeted_status_timestamp  \\\n",
       "0                       NaN                        NaN   \n",
       "1                       NaN                        NaN   \n",
       "2                       NaN                        NaN   \n",
       "3                       NaN                        NaN   \n",
       "4                       NaN                        NaN   \n",
       "\n",
       "                                       expanded_urls  rating_numerator  \\\n",
       "0  https://twitter.com/dog_rates/status/892420643...                13   \n",
       "1  https://twitter.com/dog_rates/status/892177421...                13   \n",
       "2  https://twitter.com/dog_rates/status/891815181...                12   \n",
       "3  https://twitter.com/dog_rates/status/891689557...                13   \n",
       "4  https://twitter.com/dog_rates/status/891327558...                12   \n",
       "\n",
       "   rating_denominator      name doggo floofer pupper puppo  \n",
       "0                  10   Phineas  None    None   None  None  \n",
       "1                  10     Tilly  None    None   None  None  \n",
       "2                  10    Archie  None    None   None  None  \n",
       "3                  10     Darla  None    None   None  None  \n",
       "4                  10  Franklin  None    None   None  None  "
      ]
     },
     "execution_count": 2,
     "metadata": {},
     "output_type": "execute_result"
    }
   ],
   "source": [
    "# load tweets archieve data\n",
    "tweets_df = pd.read_csv('twitter-archive-enhanced.csv')\n",
    "tweets_df.head()"
   ]
  },
  {
   "cell_type": "code",
   "execution_count": 3,
   "metadata": {},
   "outputs": [],
   "source": [
    "# get image preictions data\n",
    "\n",
    "url = 'https://d17h27t6h515a5.cloudfront.net/topher/2017/August/599fd2ad_image-predictions/image-predictions.tsv'\n",
    "response = requests.get(url)\n",
    "with open(os.path.join('./', url.split('/')[-1]), mode='wb') as file:\n",
    "    file.write(response.content)"
   ]
  },
  {
   "cell_type": "code",
   "execution_count": 4,
   "metadata": {},
   "outputs": [
    {
     "data": {
      "text/html": [
       "<div>\n",
       "<style>\n",
       "    .dataframe thead tr:only-child th {\n",
       "        text-align: right;\n",
       "    }\n",
       "\n",
       "    .dataframe thead th {\n",
       "        text-align: left;\n",
       "    }\n",
       "\n",
       "    .dataframe tbody tr th {\n",
       "        vertical-align: top;\n",
       "    }\n",
       "</style>\n",
       "<table border=\"1\" class=\"dataframe\">\n",
       "  <thead>\n",
       "    <tr style=\"text-align: right;\">\n",
       "      <th></th>\n",
       "      <th>tweet_id</th>\n",
       "      <th>jpg_url</th>\n",
       "      <th>img_num</th>\n",
       "      <th>p1</th>\n",
       "      <th>p1_conf</th>\n",
       "      <th>p1_dog</th>\n",
       "      <th>p2</th>\n",
       "      <th>p2_conf</th>\n",
       "      <th>p2_dog</th>\n",
       "      <th>p3</th>\n",
       "      <th>p3_conf</th>\n",
       "      <th>p3_dog</th>\n",
       "    </tr>\n",
       "  </thead>\n",
       "  <tbody>\n",
       "    <tr>\n",
       "      <th>0</th>\n",
       "      <td>666020888022790149</td>\n",
       "      <td>https://pbs.twimg.com/media/CT4udn0WwAA0aMy.jpg</td>\n",
       "      <td>1</td>\n",
       "      <td>Welsh_springer_spaniel</td>\n",
       "      <td>0.465074</td>\n",
       "      <td>True</td>\n",
       "      <td>collie</td>\n",
       "      <td>0.156665</td>\n",
       "      <td>True</td>\n",
       "      <td>Shetland_sheepdog</td>\n",
       "      <td>0.061428</td>\n",
       "      <td>True</td>\n",
       "    </tr>\n",
       "    <tr>\n",
       "      <th>1</th>\n",
       "      <td>666029285002620928</td>\n",
       "      <td>https://pbs.twimg.com/media/CT42GRgUYAA5iDo.jpg</td>\n",
       "      <td>1</td>\n",
       "      <td>redbone</td>\n",
       "      <td>0.506826</td>\n",
       "      <td>True</td>\n",
       "      <td>miniature_pinscher</td>\n",
       "      <td>0.074192</td>\n",
       "      <td>True</td>\n",
       "      <td>Rhodesian_ridgeback</td>\n",
       "      <td>0.072010</td>\n",
       "      <td>True</td>\n",
       "    </tr>\n",
       "    <tr>\n",
       "      <th>2</th>\n",
       "      <td>666033412701032449</td>\n",
       "      <td>https://pbs.twimg.com/media/CT4521TWwAEvMyu.jpg</td>\n",
       "      <td>1</td>\n",
       "      <td>German_shepherd</td>\n",
       "      <td>0.596461</td>\n",
       "      <td>True</td>\n",
       "      <td>malinois</td>\n",
       "      <td>0.138584</td>\n",
       "      <td>True</td>\n",
       "      <td>bloodhound</td>\n",
       "      <td>0.116197</td>\n",
       "      <td>True</td>\n",
       "    </tr>\n",
       "    <tr>\n",
       "      <th>3</th>\n",
       "      <td>666044226329800704</td>\n",
       "      <td>https://pbs.twimg.com/media/CT5Dr8HUEAA-lEu.jpg</td>\n",
       "      <td>1</td>\n",
       "      <td>Rhodesian_ridgeback</td>\n",
       "      <td>0.408143</td>\n",
       "      <td>True</td>\n",
       "      <td>redbone</td>\n",
       "      <td>0.360687</td>\n",
       "      <td>True</td>\n",
       "      <td>miniature_pinscher</td>\n",
       "      <td>0.222752</td>\n",
       "      <td>True</td>\n",
       "    </tr>\n",
       "    <tr>\n",
       "      <th>4</th>\n",
       "      <td>666049248165822465</td>\n",
       "      <td>https://pbs.twimg.com/media/CT5IQmsXIAAKY4A.jpg</td>\n",
       "      <td>1</td>\n",
       "      <td>miniature_pinscher</td>\n",
       "      <td>0.560311</td>\n",
       "      <td>True</td>\n",
       "      <td>Rottweiler</td>\n",
       "      <td>0.243682</td>\n",
       "      <td>True</td>\n",
       "      <td>Doberman</td>\n",
       "      <td>0.154629</td>\n",
       "      <td>True</td>\n",
       "    </tr>\n",
       "  </tbody>\n",
       "</table>\n",
       "</div>"
      ],
      "text/plain": [
       "             tweet_id                                          jpg_url  \\\n",
       "0  666020888022790149  https://pbs.twimg.com/media/CT4udn0WwAA0aMy.jpg   \n",
       "1  666029285002620928  https://pbs.twimg.com/media/CT42GRgUYAA5iDo.jpg   \n",
       "2  666033412701032449  https://pbs.twimg.com/media/CT4521TWwAEvMyu.jpg   \n",
       "3  666044226329800704  https://pbs.twimg.com/media/CT5Dr8HUEAA-lEu.jpg   \n",
       "4  666049248165822465  https://pbs.twimg.com/media/CT5IQmsXIAAKY4A.jpg   \n",
       "\n",
       "   img_num                      p1   p1_conf  p1_dog                  p2  \\\n",
       "0        1  Welsh_springer_spaniel  0.465074    True              collie   \n",
       "1        1                 redbone  0.506826    True  miniature_pinscher   \n",
       "2        1         German_shepherd  0.596461    True            malinois   \n",
       "3        1     Rhodesian_ridgeback  0.408143    True             redbone   \n",
       "4        1      miniature_pinscher  0.560311    True          Rottweiler   \n",
       "\n",
       "    p2_conf  p2_dog                   p3   p3_conf  p3_dog  \n",
       "0  0.156665    True    Shetland_sheepdog  0.061428    True  \n",
       "1  0.074192    True  Rhodesian_ridgeback  0.072010    True  \n",
       "2  0.138584    True           bloodhound  0.116197    True  \n",
       "3  0.360687    True   miniature_pinscher  0.222752    True  \n",
       "4  0.243682    True             Doberman  0.154629    True  "
      ]
     },
     "execution_count": 4,
     "metadata": {},
     "output_type": "execute_result"
    }
   ],
   "source": [
    "# load image predictions data\n",
    "\n",
    "images_df = pd.read_csv('image-predictions.tsv', sep='\\t')\n",
    "images_df.head()"
   ]
  },
  {
   "cell_type": "code",
   "execution_count": 5,
   "metadata": {},
   "outputs": [],
   "source": [
    "# twitter api tokens\n",
    "\n",
    "consumer_key = ''\n",
    "consumer_secret = ''\n",
    "access_token = ''\n",
    "access_secret = ''\n",
    "\n",
    "auth = tweepy.OAuthHandler(consumer_key, consumer_secret)\n",
    "auth.set_access_token(access_token, access_secret)\n",
    "\n",
    "api = tweepy.API(auth)"
   ]
  },
  {
   "cell_type": "code",
   "execution_count": 6,
   "metadata": {},
   "outputs": [],
   "source": [
    "# deleted_ids = []\n",
    "# with open(os.path.join('./', 'tweet_json.txt'), mode='w') as file:\n",
    "#     for id in tweets_df.tweet_id:\n",
    "#         start = time.time()\n",
    "#         try:\n",
    "#             data = api.get_status(id, tweet_mode='extended', wait_on_rate_limit=True, wait_on_rate_limit_notify=True)\n",
    "#             file.write(json.dumps(data._json) + '\\n')\n",
    "#         except:\n",
    "#             deleted_ids.append(id)\n",
    "#         end = time.time()\n",
    "#         print(str(data.id) + \"------------\" + str(end-start))\n",
    "# len(deleted_ids)"
   ]
  },
  {
   "cell_type": "code",
   "execution_count": 7,
   "metadata": {},
   "outputs": [
    {
     "data": {
      "text/html": [
       "<div>\n",
       "<style>\n",
       "    .dataframe thead tr:only-child th {\n",
       "        text-align: right;\n",
       "    }\n",
       "\n",
       "    .dataframe thead th {\n",
       "        text-align: left;\n",
       "    }\n",
       "\n",
       "    .dataframe tbody tr th {\n",
       "        vertical-align: top;\n",
       "    }\n",
       "</style>\n",
       "<table border=\"1\" class=\"dataframe\">\n",
       "  <thead>\n",
       "    <tr style=\"text-align: right;\">\n",
       "      <th></th>\n",
       "      <th>favorite_count</th>\n",
       "      <th>retweet_count</th>\n",
       "      <th>tweet_id</th>\n",
       "    </tr>\n",
       "  </thead>\n",
       "  <tbody>\n",
       "    <tr>\n",
       "      <th>0</th>\n",
       "      <td>38388</td>\n",
       "      <td>8431</td>\n",
       "      <td>892420643555336193</td>\n",
       "    </tr>\n",
       "    <tr>\n",
       "      <th>1</th>\n",
       "      <td>32894</td>\n",
       "      <td>6211</td>\n",
       "      <td>892177421306343426</td>\n",
       "    </tr>\n",
       "    <tr>\n",
       "      <th>2</th>\n",
       "      <td>24786</td>\n",
       "      <td>4111</td>\n",
       "      <td>891815181378084864</td>\n",
       "    </tr>\n",
       "    <tr>\n",
       "      <th>3</th>\n",
       "      <td>41723</td>\n",
       "      <td>8560</td>\n",
       "      <td>891689557279858688</td>\n",
       "    </tr>\n",
       "    <tr>\n",
       "      <th>4</th>\n",
       "      <td>39897</td>\n",
       "      <td>9285</td>\n",
       "      <td>891327558926688256</td>\n",
       "    </tr>\n",
       "  </tbody>\n",
       "</table>\n",
       "</div>"
      ],
      "text/plain": [
       "   favorite_count  retweet_count            tweet_id\n",
       "0           38388           8431  892420643555336193\n",
       "1           32894           6211  892177421306343426\n",
       "2           24786           4111  891815181378084864\n",
       "3           41723           8560  891689557279858688\n",
       "4           39897           9285  891327558926688256"
      ]
     },
     "execution_count": 7,
     "metadata": {},
     "output_type": "execute_result"
    }
   ],
   "source": [
    "# read tweet_json.txt and create an appropriate dataframe\n",
    "df_list = []\n",
    "with open('tweet_json.txt', 'r') as file:\n",
    "    lines = file.read().splitlines()\n",
    "    for line_data in lines:\n",
    "        json_data = json.loads(line_data)\n",
    "        tweet_id = json_data['id']\n",
    "        favorite_count = json_data['favorite_count']\n",
    "        retweet_count = json_data['retweet_count']\n",
    "        df_list.append({\n",
    "            'tweet_id': tweet_id,\n",
    "            'favorite_count': favorite_count,\n",
    "            'retweet_count': retweet_count\n",
    "        })\n",
    "likes_df = pd.DataFrame(df_list)\n",
    "likes_df.head()"
   ]
  },
  {
   "cell_type": "code",
   "execution_count": 8,
   "metadata": {},
   "outputs": [
    {
     "data": {
      "text/plain": [
       "((2341, 3), (2075, 12), (2356, 17))"
      ]
     },
     "execution_count": 8,
     "metadata": {},
     "output_type": "execute_result"
    }
   ],
   "source": [
    "likes_df.shape, images_df.shape, tweets_df.shape"
   ]
  },
  {
   "cell_type": "code",
   "execution_count": 9,
   "metadata": {},
   "outputs": [
    {
     "name": "stdout",
     "output_type": "stream",
     "text": [
      "<class 'pandas.core.frame.DataFrame'>\n",
      "RangeIndex: 2356 entries, 0 to 2355\n",
      "Data columns (total 17 columns):\n",
      "tweet_id                      2356 non-null int64\n",
      "in_reply_to_status_id         78 non-null float64\n",
      "in_reply_to_user_id           78 non-null float64\n",
      "timestamp                     2356 non-null object\n",
      "source                        2356 non-null object\n",
      "text                          2356 non-null object\n",
      "retweeted_status_id           181 non-null float64\n",
      "retweeted_status_user_id      181 non-null float64\n",
      "retweeted_status_timestamp    181 non-null object\n",
      "expanded_urls                 2297 non-null object\n",
      "rating_numerator              2356 non-null int64\n",
      "rating_denominator            2356 non-null int64\n",
      "name                          2356 non-null object\n",
      "doggo                         2356 non-null object\n",
      "floofer                       2356 non-null object\n",
      "pupper                        2356 non-null object\n",
      "puppo                         2356 non-null object\n",
      "dtypes: float64(4), int64(3), object(10)\n",
      "memory usage: 313.0+ KB\n"
     ]
    }
   ],
   "source": [
    "tweets_df.info()"
   ]
  },
  {
   "cell_type": "code",
   "execution_count": 10,
   "metadata": {},
   "outputs": [
    {
     "name": "stdout",
     "output_type": "stream",
     "text": [
      "<class 'pandas.core.frame.DataFrame'>\n",
      "RangeIndex: 2075 entries, 0 to 2074\n",
      "Data columns (total 12 columns):\n",
      "tweet_id    2075 non-null int64\n",
      "jpg_url     2075 non-null object\n",
      "img_num     2075 non-null int64\n",
      "p1          2075 non-null object\n",
      "p1_conf     2075 non-null float64\n",
      "p1_dog      2075 non-null bool\n",
      "p2          2075 non-null object\n",
      "p2_conf     2075 non-null float64\n",
      "p2_dog      2075 non-null bool\n",
      "p3          2075 non-null object\n",
      "p3_conf     2075 non-null float64\n",
      "p3_dog      2075 non-null bool\n",
      "dtypes: bool(3), float64(3), int64(2), object(4)\n",
      "memory usage: 152.1+ KB\n"
     ]
    }
   ],
   "source": [
    "images_df.info()"
   ]
  },
  {
   "cell_type": "code",
   "execution_count": 11,
   "metadata": {},
   "outputs": [
    {
     "name": "stdout",
     "output_type": "stream",
     "text": [
      "<class 'pandas.core.frame.DataFrame'>\n",
      "RangeIndex: 2341 entries, 0 to 2340\n",
      "Data columns (total 3 columns):\n",
      "favorite_count    2341 non-null int64\n",
      "retweet_count     2341 non-null int64\n",
      "tweet_id          2341 non-null int64\n",
      "dtypes: int64(3)\n",
      "memory usage: 54.9 KB\n"
     ]
    }
   ],
   "source": [
    "likes_df.info()"
   ]
  },
  {
   "cell_type": "markdown",
   "metadata": {},
   "source": [
    "### Quality Issues:\n",
    "- Link in source column has some suffix and prefix in it\n",
    "- Names of the dogs are wrong (a, an, the, this, etc)\n",
    "- retweeted_status_timestamp and timestamp are not datetime objects\n",
    "- retweets are included.\n",
    "- number of observations(rows) is not consistent - (images_df: 2075 instead of tweets_df: 2356)\n",
    "- null represented as 'None' in columns 'name', 'doggo', 'floofer', 'pupper','puppo' instead of NaN.\n",
    "- lang(language) should be a categorical variable, read as string.\n",
    "- in_reply_to_status_id, in_reply_to_user_id, retweeted_status_id, retweeted_status_user_id should be str object"
   ]
  },
  {
   "cell_type": "markdown",
   "metadata": {},
   "source": [
    "### Tidiness Issues:\n",
    "- stage (doggo, floofer, pupper, puppo) in 4 different columns\n",
    "- All data is not present in one dataset"
   ]
  },
  {
   "cell_type": "code",
   "execution_count": 12,
   "metadata": {},
   "outputs": [],
   "source": [
    "# copy all dataframes to another variable\n",
    "\n",
    "tweet_clean = tweets_df.copy()\n",
    "images_clean = images_df.copy()\n",
    "likes_clean = likes_df.copy()"
   ]
  },
  {
   "cell_type": "markdown",
   "metadata": {},
   "source": [
    "## Clean data:"
   ]
  },
  {
   "cell_type": "markdown",
   "metadata": {},
   "source": [
    "#### Define\n",
    " - Since the link is same for all rows in this data, assign the direct download link to source column"
   ]
  },
  {
   "cell_type": "markdown",
   "metadata": {},
   "source": [
    "#### Clean"
   ]
  },
  {
   "cell_type": "code",
   "execution_count": 13,
   "metadata": {},
   "outputs": [],
   "source": [
    "# assign direct link to source\n",
    "\n",
    "tweet_clean.source = 'http://twitter.com/download/iphone'"
   ]
  },
  {
   "cell_type": "markdown",
   "metadata": {},
   "source": [
    "#### Test"
   ]
  },
  {
   "cell_type": "code",
   "execution_count": 14,
   "metadata": {},
   "outputs": [
    {
     "data": {
      "text/plain": [
       "array(['http://twitter.com/download/iphone'], dtype=object)"
      ]
     },
     "execution_count": 14,
     "metadata": {},
     "output_type": "execute_result"
    }
   ],
   "source": [
    "tweet_clean.source.unique()"
   ]
  },
  {
   "cell_type": "markdown",
   "metadata": {},
   "source": [
    "#### Define\n",
    " - Replace the inappropriate names of the dogs to None"
   ]
  },
  {
   "cell_type": "markdown",
   "metadata": {},
   "source": [
    "#### Clean"
   ]
  },
  {
   "cell_type": "code",
   "execution_count": 15,
   "metadata": {},
   "outputs": [],
   "source": [
    "# replace all faulty names to None\n",
    "\n",
    "tweet_clean['name'].replace('the', 'None', inplace=True)\n",
    "tweet_clean['name'].replace(\"light\",'None', inplace=True)\n",
    "tweet_clean['name'].replace(\"life\",'None', inplace=True)\n",
    "tweet_clean['name'].replace(\"an\",'None', inplace=True)\n",
    "tweet_clean['name'].replace(\"a\",'None', inplace=True)\n",
    "tweet_clean['name'].replace(\"his\",\"None\", inplace=True)\n",
    "tweet_clean['name'].replace(\"by\",'None', inplace=True)\n",
    "tweet_clean['name'].replace(\"actually\",'None', inplace=True)\n",
    "tweet_clean['name'].replace(\"just\",'None', inplace=True)\n",
    "tweet_clean['name'].replace(\"getting\",'None', inplace=True) \n",
    "tweet_clean['name'].replace(\"infuriating\",'None', inplace=True) \n",
    "tweet_clean['name'].replace(\"old\",'None', inplace=True) \n",
    "tweet_clean['name'].replace(\"all\",'None', inplace=True) \n",
    "tweet_clean['name'].replace(\"this\",'None', inplace=True) \n",
    "tweet_clean['name'].replace(\"very\",'None', inplace=True) \n",
    "tweet_clean['name'].replace(\"not\",'None', inplace=True)\n",
    "tweet_clean['name'].replace(\"one\",'None', inplace=True)\n",
    "tweet_clean['name'].replace(\"my\",'None', inplace=True)\n",
    "tweet_clean['name'].replace(\"O\",\"None\", inplace=True)\n",
    "tweet_clean['name'].replace(\"quite\",\"None\", inplace=True)\n",
    "tweet_clean['name'].replace(\"such\",\"None\", inplace=True)"
   ]
  },
  {
   "cell_type": "markdown",
   "metadata": {},
   "source": [
    "#### Test"
   ]
  },
  {
   "cell_type": "code",
   "execution_count": 16,
   "metadata": {},
   "outputs": [
    {
     "data": {
      "text/plain": [
       "None         849\n",
       "Charlie       12\n",
       "Cooper        11\n",
       "Oliver        11\n",
       "Lucy          11\n",
       "Lola          10\n",
       "Penny         10\n",
       "Tucker        10\n",
       "Bo             9\n",
       "Winston        9\n",
       "Sadie          8\n",
       "Daisy          7\n",
       "Toby           7\n",
       "Buddy          7\n",
       "Bailey         7\n",
       "Oscar          6\n",
       "Koda           6\n",
       "Milo           6\n",
       "Leo            6\n",
       "Jack           6\n",
       "Rusty          6\n",
       "Stanley        6\n",
       "Scout          6\n",
       "Bella          6\n",
       "Jax            6\n",
       "Dave           6\n",
       "Sunny          5\n",
       "Phil           5\n",
       "Alfie          5\n",
       "Louis          5\n",
       "            ... \n",
       "Wafer          1\n",
       "Clybe          1\n",
       "Bertson        1\n",
       "Edd            1\n",
       "Tripp          1\n",
       "Carter         1\n",
       "Rambo          1\n",
       "Spanky         1\n",
       "Lenox          1\n",
       "Timmy          1\n",
       "Zeus           1\n",
       "Gilbert        1\n",
       "Mutt           1\n",
       "Beebop         1\n",
       "Mary           1\n",
       "Kane           1\n",
       "Hall           1\n",
       "Izzy           1\n",
       "Chloe          1\n",
       "Aja            1\n",
       "Jessiga        1\n",
       "Augie          1\n",
       "Carll          1\n",
       "Alexander      1\n",
       "Luther         1\n",
       "Ronduh         1\n",
       "Arlen          1\n",
       "Dido           1\n",
       "Buddah         1\n",
       "Bloop          1\n",
       "Name: name, Length: 936, dtype: int64"
      ]
     },
     "execution_count": 16,
     "metadata": {},
     "output_type": "execute_result"
    }
   ],
   "source": [
    "tweet_clean.name.value_counts()"
   ]
  },
  {
   "cell_type": "markdown",
   "metadata": {},
   "source": [
    "#### Define\n",
    "- Change retweeted_status_timestamp and timestamp to datetime objects"
   ]
  },
  {
   "cell_type": "markdown",
   "metadata": {},
   "source": [
    "#### Clean"
   ]
  },
  {
   "cell_type": "code",
   "execution_count": 17,
   "metadata": {},
   "outputs": [],
   "source": [
    "# converting to datetime objects\n",
    "\n",
    "tweet_clean.timestamp = pd.to_datetime(tweet_clean.timestamp)\n",
    "tweet_clean.retweeted_status_timestamp = pd.to_datetime(tweet_clean.retweeted_status_timestamp)"
   ]
  },
  {
   "cell_type": "markdown",
   "metadata": {},
   "source": [
    "#### Test"
   ]
  },
  {
   "cell_type": "code",
   "execution_count": 18,
   "metadata": {},
   "outputs": [
    {
     "name": "stdout",
     "output_type": "stream",
     "text": [
      "<class 'pandas.core.frame.DataFrame'>\n",
      "RangeIndex: 2356 entries, 0 to 2355\n",
      "Data columns (total 17 columns):\n",
      "tweet_id                      2356 non-null int64\n",
      "in_reply_to_status_id         78 non-null float64\n",
      "in_reply_to_user_id           78 non-null float64\n",
      "timestamp                     2356 non-null datetime64[ns]\n",
      "source                        2356 non-null object\n",
      "text                          2356 non-null object\n",
      "retweeted_status_id           181 non-null float64\n",
      "retweeted_status_user_id      181 non-null float64\n",
      "retweeted_status_timestamp    181 non-null datetime64[ns]\n",
      "expanded_urls                 2297 non-null object\n",
      "rating_numerator              2356 non-null int64\n",
      "rating_denominator            2356 non-null int64\n",
      "name                          2356 non-null object\n",
      "doggo                         2356 non-null object\n",
      "floofer                       2356 non-null object\n",
      "pupper                        2356 non-null object\n",
      "puppo                         2356 non-null object\n",
      "dtypes: datetime64[ns](2), float64(4), int64(3), object(8)\n",
      "memory usage: 313.0+ KB\n"
     ]
    }
   ],
   "source": [
    "tweet_clean.info()"
   ]
  },
  {
   "cell_type": "markdown",
   "metadata": {},
   "source": [
    "#### Define\n",
    "- Drop the retweets data"
   ]
  },
  {
   "cell_type": "markdown",
   "metadata": {},
   "source": [
    "#### Clean"
   ]
  },
  {
   "cell_type": "code",
   "execution_count": 19,
   "metadata": {},
   "outputs": [],
   "source": [
    "# query for retweets\n",
    "\n",
    "retweets = tweet_clean.query('retweeted_status_id in tweet_id')"
   ]
  },
  {
   "cell_type": "code",
   "execution_count": 20,
   "metadata": {},
   "outputs": [],
   "source": [
    "# drop the retweets columns\n",
    "\n",
    "tweet_clean.drop(retweets.index, inplace=True)"
   ]
  },
  {
   "cell_type": "markdown",
   "metadata": {},
   "source": [
    "#### Test"
   ]
  },
  {
   "cell_type": "code",
   "execution_count": 21,
   "metadata": {},
   "outputs": [
    {
     "data": {
      "text/html": [
       "<div>\n",
       "<style>\n",
       "    .dataframe thead tr:only-child th {\n",
       "        text-align: right;\n",
       "    }\n",
       "\n",
       "    .dataframe thead th {\n",
       "        text-align: left;\n",
       "    }\n",
       "\n",
       "    .dataframe tbody tr th {\n",
       "        vertical-align: top;\n",
       "    }\n",
       "</style>\n",
       "<table border=\"1\" class=\"dataframe\">\n",
       "  <thead>\n",
       "    <tr style=\"text-align: right;\">\n",
       "      <th></th>\n",
       "      <th>tweet_id</th>\n",
       "      <th>in_reply_to_status_id</th>\n",
       "      <th>in_reply_to_user_id</th>\n",
       "      <th>timestamp</th>\n",
       "      <th>source</th>\n",
       "      <th>text</th>\n",
       "      <th>retweeted_status_id</th>\n",
       "      <th>retweeted_status_user_id</th>\n",
       "      <th>retweeted_status_timestamp</th>\n",
       "      <th>expanded_urls</th>\n",
       "      <th>rating_numerator</th>\n",
       "      <th>rating_denominator</th>\n",
       "      <th>name</th>\n",
       "      <th>doggo</th>\n",
       "      <th>floofer</th>\n",
       "      <th>pupper</th>\n",
       "      <th>puppo</th>\n",
       "    </tr>\n",
       "  </thead>\n",
       "  <tbody>\n",
       "  </tbody>\n",
       "</table>\n",
       "</div>"
      ],
      "text/plain": [
       "Empty DataFrame\n",
       "Columns: [tweet_id, in_reply_to_status_id, in_reply_to_user_id, timestamp, source, text, retweeted_status_id, retweeted_status_user_id, retweeted_status_timestamp, expanded_urls, rating_numerator, rating_denominator, name, doggo, floofer, pupper, puppo]\n",
       "Index: []"
      ]
     },
     "execution_count": 21,
     "metadata": {},
     "output_type": "execute_result"
    }
   ],
   "source": [
    "retweets = tweet_clean.query('retweeted_status_id in tweet_id')\n",
    "retweets"
   ]
  },
  {
   "cell_type": "markdown",
   "metadata": {},
   "source": [
    "#### Define\n",
    "- Make number of observations(rows) consistent across the tables"
   ]
  },
  {
   "cell_type": "markdown",
   "metadata": {},
   "source": [
    "#### Clean"
   ]
  },
  {
   "cell_type": "code",
   "execution_count": 22,
   "metadata": {},
   "outputs": [
    {
     "data": {
      "text/plain": [
       "((2075, 12), (2200, 17), (2341, 3))"
      ]
     },
     "execution_count": 22,
     "metadata": {},
     "output_type": "execute_result"
    }
   ],
   "source": [
    "images_clean.shape, tweet_clean.shape, likes_clean.shape"
   ]
  },
  {
   "cell_type": "code",
   "execution_count": 23,
   "metadata": {},
   "outputs": [],
   "source": [
    "# remove the rows whose data is deleted from WeRateDogs account\n",
    "likes_tweet_ids = likes_clean.tweet_id\n",
    "results = tweet_clean.query('tweet_id not in @likes_tweet_ids')\n",
    "tweet_clean.drop(results.index, inplace=True)"
   ]
  },
  {
   "cell_type": "code",
   "execution_count": 24,
   "metadata": {},
   "outputs": [
    {
     "data": {
      "text/plain": [
       "((2075, 12), (2196, 17), (2341, 3))"
      ]
     },
     "execution_count": 24,
     "metadata": {},
     "output_type": "execute_result"
    }
   ],
   "source": [
    "images_clean.shape, tweet_clean.shape, likes_clean.shape"
   ]
  },
  {
   "cell_type": "code",
   "execution_count": 25,
   "metadata": {},
   "outputs": [],
   "source": [
    "# retrive the tweet_ids that are present in tweets and images data\n",
    "images_tweet_ids = images_clean.tweet_id\n",
    "tweet_ids = tweet_clean.tweet_id\n",
    "common_ids = set(tweet_ids) & set(images_tweet_ids)"
   ]
  },
  {
   "cell_type": "code",
   "execution_count": 26,
   "metadata": {},
   "outputs": [
    {
     "data": {
      "text/plain": [
       "(2006, 17)"
      ]
     },
     "execution_count": 26,
     "metadata": {},
     "output_type": "execute_result"
    }
   ],
   "source": [
    "# drop the rows whose image info is not provided\n",
    "results = tweet_clean.query('tweet_id not in @common_ids')\n",
    "tweet_clean.drop(results.index, inplace=True)\n",
    "tweet_clean.shape"
   ]
  },
  {
   "cell_type": "code",
   "execution_count": 27,
   "metadata": {},
   "outputs": [
    {
     "data": {
      "text/plain": [
       "(2006, 12)"
      ]
     },
     "execution_count": 27,
     "metadata": {},
     "output_type": "execute_result"
    }
   ],
   "source": [
    "# drop the rows whose tweets data is not present\n",
    "results = images_clean.query('tweet_id not in @common_ids')\n",
    "images_clean.drop(results.index, inplace=True)\n",
    "images_clean.shape"
   ]
  },
  {
   "cell_type": "code",
   "execution_count": 28,
   "metadata": {},
   "outputs": [
    {
     "data": {
      "text/plain": [
       "(2006, 3)"
      ]
     },
     "execution_count": 28,
     "metadata": {},
     "output_type": "execute_result"
    }
   ],
   "source": [
    "# make likes_df consitent to others\n",
    "results = likes_clean.query('tweet_id not in @common_ids')\n",
    "likes_clean.drop(results.index, inplace=True)\n",
    "likes_clean.shape"
   ]
  },
  {
   "cell_type": "markdown",
   "metadata": {},
   "source": [
    "#### Test"
   ]
  },
  {
   "cell_type": "code",
   "execution_count": 29,
   "metadata": {},
   "outputs": [
    {
     "data": {
      "text/plain": [
       "((2006, 12), (2006, 17), (2006, 3))"
      ]
     },
     "execution_count": 29,
     "metadata": {},
     "output_type": "execute_result"
    }
   ],
   "source": [
    "images_clean.shape, tweet_clean.shape, likes_clean.shape"
   ]
  },
  {
   "cell_type": "markdown",
   "metadata": {},
   "source": [
    "#### Define\n",
    "- Change None to NaN in columns 'name', 'doggo', 'floofer', 'pupper','puppo'"
   ]
  },
  {
   "cell_type": "markdown",
   "metadata": {},
   "source": [
    "#### Clean"
   ]
  },
  {
   "cell_type": "code",
   "execution_count": 30,
   "metadata": {},
   "outputs": [],
   "source": [
    "tweet_clean.name.replace('None', 'NaN', inplace=True)\n",
    "tweet_clean.doggo.replace('None', 'NaN', inplace=True)\n",
    "tweet_clean.floofer.replace('None', 'NaN', inplace=True)\n",
    "tweet_clean.pupper.replace('None', 'NaN', inplace=True)\n",
    "tweet_clean.puppo.replace('None', 'NaN', inplace=True)"
   ]
  },
  {
   "cell_type": "markdown",
   "metadata": {},
   "source": [
    "#### Test"
   ]
  },
  {
   "cell_type": "code",
   "execution_count": 31,
   "metadata": {},
   "outputs": [
    {
     "data": {
      "text/plain": [
       "array(['Phineas', 'Tilly', 'Archie', 'Darla', 'Franklin', 'NaN', 'Jax',\n",
       "       'Zoey', 'Cassie', 'Koda', 'Bruno', 'Ted', 'Stuart', 'Oliver', 'Jim',\n",
       "       'Zeke', 'Ralphus', 'Gerald', 'Jeffrey', 'Canela', 'Maya', 'Mingus',\n",
       "       'Derek', 'Roscoe', 'Waffles', 'Jimbo', 'Maisey', 'Earl', 'Lola',\n",
       "       'Kevin', 'Yogi', 'Noah', 'Bella', 'Grizzwald', 'Rusty', 'Gus',\n",
       "       'Stanley', 'Alfy', 'Koko', 'Rey', 'Gary', 'Elliot', 'Louis',\n",
       "       'Jesse', 'Romeo', 'Bailey', 'Duddles', 'Jack', 'Steven', 'Beau',\n",
       "       'Snoopy', 'Shadow', 'Emmy', 'Aja', 'Penny', 'Dante', 'Nelly',\n",
       "       'Ginger', 'Benedict', 'Venti', 'Goose', 'Nugget', 'Cash', 'Jed',\n",
       "       'Sebastian', 'Sierra', 'Monkey', 'Harry', 'Kody', 'Lassie', 'Rover',\n",
       "       'Napolean', 'Boomer', 'Cody', 'Rumble', 'Clifford', 'Dewey',\n",
       "       'Scout', 'Gizmo', 'Walter', 'Cooper', 'Harold', 'Shikha', 'Lili',\n",
       "       'Jamesy', 'Coco', 'Sammy', 'Meatball', 'Paisley', 'Albus',\n",
       "       'Neptune', 'Belle', 'Quinn', 'Zooey', 'Dave', 'Jersey', 'Hobbes',\n",
       "       'Burt', 'Lorenzo', 'Carl', 'Jordy', 'Milky', 'Trooper', 'Sophie',\n",
       "       'Wyatt', 'Rosie', 'Thor', 'Oscar', 'Callie', 'Cermet', 'Marlee',\n",
       "       'Arya', 'Einstein', 'Alice', 'Rumpole', 'Benny', 'Aspen', 'Jarod',\n",
       "       'Wiggles', 'General', 'Sailor', 'Iggy', 'Snoop', 'Kyle', 'Leo',\n",
       "       'Riley', 'Noosh', 'Odin', 'Jerry', 'Georgie', 'Rontu', 'Cannon',\n",
       "       'Furzey', 'Daisy', 'Tuck', 'Barney', 'Vixen', 'Jarvis', 'Mimosa',\n",
       "       'Pickles', 'Brady', 'Luna', 'Charlie', 'Margo', 'Sadie', 'Hank',\n",
       "       'Tycho', 'Indie', 'Winnie', 'George', 'Bentley', 'Max', 'Dawn',\n",
       "       'Maddie', 'Monty', 'Sojourner', 'Winston', 'Odie', 'Arlo',\n",
       "       'Vincent', 'Lucy', 'Clark', 'Mookie', 'Meera', 'Ava', 'Eli', 'Ash',\n",
       "       'Tucker', 'Tobi', 'Chester', 'Wilson', 'Sunshine', 'Lipton',\n",
       "       'Bronte', 'Poppy', 'Gidget', 'Rhino', 'Willow', 'Orion', 'Eevee',\n",
       "       'Smiley', 'Miguel', 'Emanuel', 'Kuyu', 'Dutch', 'Pete', 'Scooter',\n",
       "       'Reggie', 'Lilly', 'Samson', 'Mia', 'Astrid', 'Malcolm', 'Dexter',\n",
       "       'Alfie', 'Fiona', 'Mutt', 'Bear', 'Doobert', 'Beebop', 'Alexander',\n",
       "       'Sailer', 'Brutus', 'Kona', 'Boots', 'Ralphie', 'Loki', 'Cupid',\n",
       "       'Pawnd', 'Pilot', 'Ike', 'Mo', 'Toby', 'Sweet', 'Pablo', 'Nala',\n",
       "       'Crawford', 'Gabe', 'Jimison', 'Duchess', 'Harlso', 'Sundance',\n",
       "       'Luca', 'Flash', 'Sunny', 'Howie', 'Jazzy', 'Anna', 'Finn', 'Bo',\n",
       "       'Wafer', 'Tom', 'Florence', 'Autumn', 'Buddy', 'Dido', 'Eugene',\n",
       "       'Ken', 'Strudel', 'Tebow', 'Chloe', 'Timber', 'Binky', 'Moose',\n",
       "       'Dudley', 'Comet', 'Akumi', 'Titan', 'Olivia', 'Alf', 'Oshie',\n",
       "       'Chubbs', 'Sky', 'Atlas', 'Eleanor', 'Layla', 'Rocky', 'Baron',\n",
       "       'Tyr', 'Bauer', 'Swagger', 'Brandi', 'Mary', 'Moe', 'Halo', 'Augie',\n",
       "       'Craig', 'Sam', 'Hunter', 'Pavlov', 'Phil', 'Kyro', 'Wallace',\n",
       "       'Ito', 'Ollie', 'Stephan', 'Lennon', 'incredibly', 'Major', 'Duke',\n",
       "       'Sansa', 'Shooter', 'Django', 'Diogi', 'Sonny', 'Marley', 'Severus',\n",
       "       'Ronnie', 'Milo', 'Bones', 'Mauve', 'Chef', 'Doc', 'Peaches',\n",
       "       'Sobe', 'Longfellow', 'Mister', 'Iroh', 'Pancake', 'Snicku', 'Ruby',\n",
       "       'Brody', 'Mack', 'Nimbus', 'Laika', 'Maximus', 'Dobby', 'Moreton',\n",
       "       'Juno', 'Maude', 'Lily', 'Newt', 'Benji', 'Nida', 'Robin',\n",
       "       'Monster', 'BeBe', 'Remus', 'Levi', 'Mabel', 'Misty', 'Betty',\n",
       "       'Mosby', 'Maggie', 'Bruce', 'Happy', 'Brownie', 'Rizzy', 'Stella',\n",
       "       'Butter', 'Frank', 'Tonks', 'Lincoln', 'Rory', 'Logan', 'Dale',\n",
       "       'Rizzo', 'Mattie', 'Pinot', 'Dallas', 'Hero', 'Frankie', 'Stormy',\n",
       "       'Mairi', 'Loomis', 'Godi', 'Cali', 'Deacon', 'Timmy', 'Sampson',\n",
       "       'Chipson', 'Oakley', 'Dash', 'Hercules', 'Jay', 'Mya', 'Strider',\n",
       "       'Wesley', 'Solomon', 'Huck', 'Blue', 'Anakin', 'Finley',\n",
       "       'Sprinkles', 'Heinrich', 'Shakespeare', 'Chelsea', 'Bungalo',\n",
       "       'Chip', 'Grey', 'Roosevelt', 'Willem', 'Davey', 'Dakota', 'Fizz',\n",
       "       'Dixie', 'Al', 'Jackson', 'Carbon', 'Klein', 'DonDon', 'Kirby',\n",
       "       'Lou', 'Chevy', 'Tito', 'Philbert', 'Louie', 'Rupert', 'Rufus',\n",
       "       'Brudge', 'Shadoe', 'Angel', 'Brat', 'Tove', 'Gromit', 'Aubie',\n",
       "       'Kota', 'Leela', 'Glenn', 'Shelby', 'Sephie', 'Bonaparte', 'Albert',\n",
       "       'Wishes', 'Rose', 'Theo', 'Rocco', 'Fido', 'Emma', 'Spencer',\n",
       "       'Lilli', 'Boston', 'Brandonald', 'Corey', 'Leonard', 'Beckham',\n",
       "       'Devón', 'Gert', 'Watson', 'Keith', 'Dex', 'Ace', 'Tayzie',\n",
       "       'Grizzie', 'Gilbert', 'Meyer', 'Arnie', 'Zoe', 'Stewie', 'Calvin',\n",
       "       'Lilah', 'Spanky', 'Jameson', 'Piper', 'Atticus', 'Blu', 'Dietrich',\n",
       "       'Divine', 'Tripp', 'Cora', 'Huxley', 'Bookstore', 'Abby', 'Shiloh',\n",
       "       'Gustav', 'Arlen', 'Percy', 'Lenox', 'Sugar', 'Harvey', 'Blanket',\n",
       "       'Geno', 'Stark', 'Beya', 'Kilo', 'Kayla', 'Maxaroni', 'Bell',\n",
       "       'Doug', 'Edmund', 'Aqua', 'Theodore', 'Baloo', 'Chase', 'Nollie',\n",
       "       'Rorie', 'Simba', 'Charles', 'Bayley', 'Axel', 'Storkson', 'Remy',\n",
       "       'Chadrick', 'Kellogg', 'Buckley', 'Livvie', 'Terry', 'Hermione',\n",
       "       'Ralpher', 'Aldrick', 'Larry', 'unacceptable', 'Rooney', 'Crystal',\n",
       "       'Ziva', 'Stefan', 'Pupcasso', 'Puff', 'Flurpson', 'Coleman',\n",
       "       'Enchilada', 'Raymond', 'Rueben', 'Cilantro', 'Karll', 'Sprout',\n",
       "       'Blitz', 'Bloop', 'Colby', 'Lillie', 'Fred', 'Ashleigh', 'Kreggory',\n",
       "       'Sarge', 'Luther', 'Reginald', 'Ivar', 'Jangle', 'Schnitzel',\n",
       "       'Panda', 'Berkeley', 'Ralphé', 'Charleson', 'Clyde', 'Harnold',\n",
       "       'Sid', 'Pippa', 'Otis', 'Carper', 'Bowie', 'Alexanderson', 'Suki',\n",
       "       'Barclay', 'Ebby', 'Flávio', 'Smokey', 'Link', 'Jennifur',\n",
       "       'Bluebert', 'Stephanus', 'Bubbles', 'Zeus', 'Bertson', 'Nico',\n",
       "       'Michelangelope', 'Siba', 'Calbert', 'Curtis', 'Travis', 'Thumas',\n",
       "       'Kanu', 'Lance', 'Opie', 'Stubert', 'Kane', 'Olive', 'Chuckles',\n",
       "       'Staniel', 'Sora', 'Beemo', 'Gunner', 'Lacy', 'Tater', 'Olaf',\n",
       "       'Cecil', 'Vince', 'Karma', 'Billy', 'Walker', 'Rodney', 'Klevin',\n",
       "       'Malikai', 'Bobble', 'River', 'Jebberson', 'Remington', 'Farfle',\n",
       "       'Jiminus', 'Harper', 'Keurig', 'Clarkus', 'Finnegus', 'Cupcake',\n",
       "       'Kathmandu', 'Ellie', 'Katie', 'Kara', 'Adele', 'Zara', 'Ambrose',\n",
       "       'Jimothy', 'Bode', 'Terrenth', 'Reese', 'Chesterson', 'Lucia',\n",
       "       'Bisquick', 'Ralphson', 'Socks', 'Rambo', 'Fiji', 'Rilo', 'Bilbo',\n",
       "       'Coopson', 'Yoda', 'Millie', 'Chet', 'Crouton', 'Daniel', 'Kaia',\n",
       "       'Murphy', 'Dotsy', 'Eazy', 'Coops', 'Fillup', 'Miley', 'Charl',\n",
       "       'Reagan', 'CeCe', 'Cuddles', 'Claude', 'Jessiga', 'Carter', 'Ole',\n",
       "       'Blipson', 'Reptar', 'Trevith', 'Berb', 'Bob', 'Colin', 'Brian',\n",
       "       'Oliviér', 'Grady', 'Kobe', 'Freddery', 'Bodie', 'Dunkin', 'Wally',\n",
       "       'Tupawc', 'Amber', 'Herschel', 'Edgar', 'Kingsley', 'Brockly',\n",
       "       'Richie', 'Molly', 'Vinscent', 'Cedrick', 'Hazel', 'Lolo', 'Eriq',\n",
       "       'Phred', 'Maxwell', 'Geoff', 'Covach', 'Durg', 'Fynn', 'Ricky',\n",
       "       'Herald', 'Lucky', 'Trip', 'Clarence', 'Hamrick', 'Brad', 'Pubert',\n",
       "       'Frönq', 'Derby', 'Lizzie', 'Blakely', 'Opal', 'Marq', 'Kramer',\n",
       "       'Tyrone', 'Gordon', 'Baxter', 'Mona', 'Horace', 'Crimson', 'Birf',\n",
       "       'Hammond', 'Lorelei', 'Marty', 'Brooks', 'Petrick', 'Hubertson',\n",
       "       'Gerbald', 'Oreo', 'Bruiser', 'Perry', 'Bobby', 'Jeph', 'Obi',\n",
       "       'Tino', 'Kulet', 'Lupe', 'Tiger', 'Jiminy', 'Griffin', 'Banjo',\n",
       "       'Brandy', 'Lulu', 'Darrel', 'Taco', 'Joey', 'Patrick', 'Kreg',\n",
       "       'Todo', 'Tess', 'Ulysses', 'Toffee', 'Apollo', 'Carly', 'Asher',\n",
       "       'Glacier', 'Chuck', 'Champ', 'Ozzie', 'Griswold', 'Cheesy',\n",
       "       'Moofasa', 'Hector', 'Goliath', 'Kawhi', 'Ozzy', 'Emmie',\n",
       "       'Penelope', 'Willie', 'Rinna', 'Mike', 'William', 'Dwight', 'Evy',\n",
       "       'Hurley', 'Rubio', 'officially', 'Chompsky', 'Linda', 'Tug',\n",
       "       'Tango', 'Grizz', 'Jerome', 'Crumpet', 'Jessifer', 'Ralph', 'Sandy',\n",
       "       'Humphrey', 'Tassy', 'Juckson', 'Chuq', 'Tyrus', 'Karl', 'Godzilla',\n",
       "       'Vinnie', 'Kenneth', 'Herm', 'Bert', 'Striker', 'Donny', 'Pepper',\n",
       "       'Bernie', 'Buddah', 'Lenny', 'Arnold', 'Zuzu', 'Mollie', 'Laela',\n",
       "       'Tedders', 'Superpup', 'Rufio', 'Jeb', 'Rodman', 'Jonah', 'Chesney',\n",
       "       'Kenny', 'Henry', 'Bobbay', 'Mitch', 'Kaiya', 'Acro', 'Aiden',\n",
       "       'Obie', 'Dot', 'Shnuggles', 'Kendall', 'Jeffri', 'Steve', 'Eve',\n",
       "       'Mac', 'Fletcher', 'Kenzie', 'Pumpkin', 'Schnozz', 'Gustaf',\n",
       "       'Cheryl', 'Ed', 'Leonidas', 'Norman', 'Caryl', 'Scott', 'Taz',\n",
       "       'Darby', 'Jackie', 'Jazz', 'Franq', 'Pippin', 'Rolf', 'Snickers',\n",
       "       'Ridley', 'Cal', 'Bradley', 'Bubba', 'Tuco', 'Patch', 'Mojo',\n",
       "       'Batdog', 'Dylan', 'space', 'Mark', 'JD', 'Alejandro', 'Scruffers',\n",
       "       'Pip', 'Julius', 'Tanner', 'Sparky', 'Anthony', 'Holly', 'Jett',\n",
       "       'Amy', 'Sage', 'Andy', 'Mason', 'Trigger', 'Antony', 'Creg',\n",
       "       'Traviss', 'Gin', 'Jeffrie', 'Danny', 'Ester', 'Pluto', 'Bloo',\n",
       "       'Edd', 'Paull', 'Willy', 'Herb', 'Damon', 'Peanut', 'Nigel',\n",
       "       'Butters', 'Sandra', 'Fabio', 'Randall', 'Liam', 'Tommy', 'Ben',\n",
       "       'Raphael', 'Julio', 'Andru', 'Kloey', 'Shawwn', 'Skye', 'Kollin',\n",
       "       'Ronduh', 'Billl', 'Saydee', 'Dug', 'Tessa', 'Sully', 'Kirk',\n",
       "       'Ralf', 'Clarq', 'Jaspers', 'Samsom', 'Terrance', 'Harrison',\n",
       "       'Chaz', 'Jeremy', 'Jaycob', 'Lambeau', 'Ruffles', 'Amélie', 'Bobb',\n",
       "       'Banditt', 'Kevon', 'Winifred', 'Hanz', 'Churlie', 'Zeek', 'Timofy',\n",
       "       'Maks', 'Jomathan', 'Kallie', 'Marvin', 'Spark', 'Gòrdón', 'Jo',\n",
       "       'DayZ', 'Jareld', 'Torque', 'Ron', 'Skittles', 'Cleopatricia',\n",
       "       'Erik', 'Stu', 'Tedrick', 'Shaggy', 'Filup', 'Kial', 'Naphaniel',\n",
       "       'Dook', 'Hall', 'Philippe', 'Biden', 'Fwed', 'Genevieve', 'Joshwa',\n",
       "       'Timison', 'Bradlay', 'Pipsy', 'Clybe', 'Keet', 'Carll', 'Jockson',\n",
       "       'Josep', 'Lugan', 'Christoper'], dtype=object)"
      ]
     },
     "execution_count": 31,
     "metadata": {},
     "output_type": "execute_result"
    }
   ],
   "source": [
    "tweet_clean.name.unique()"
   ]
  },
  {
   "cell_type": "markdown",
   "metadata": {},
   "source": [
    "#### Define\n",
    "- Change the rating_numerator and rating_denominator columns to float and assign the correct float values"
   ]
  },
  {
   "cell_type": "markdown",
   "metadata": {},
   "source": [
    "#### Clean"
   ]
  },
  {
   "cell_type": "code",
   "execution_count": 32,
   "metadata": {
    "scrolled": true
   },
   "outputs": [
    {
     "name": "stderr",
     "output_type": "stream",
     "text": [
      "/opt/conda/lib/python3.6/site-packages/ipykernel_launcher.py:2: UserWarning: This pattern has match groups. To actually get the groups, use str.extract.\n",
      "  \n"
     ]
    },
    {
     "data": {
      "text/plain": [
       "array([ 'This is Bella. She hopes her smile made you smile. If not, she is also offering you her favorite monkey. 13.5/10 https://t.co/qjrljjt948',\n",
       "       \"This is Logan, the Chow who lived. He solemnly swears he's up to lots of good. H*ckin magical af 9.75/10 https://t.co/yBO5wuqaPS\",\n",
       "       \"This is Sophie. She's a Jubilant Bush Pupper. Super h*ckin rare. Appears at random just to smile at the locals. 11.27/10 would smile back https://t.co/QFaUiIHxHq\",\n",
       "       'Here we have uncovered an entire battalion of holiday puppers. Average of 11.26/10 https://t.co/eNm2S6p9BD'], dtype=object)"
      ]
     },
     "execution_count": 32,
     "metadata": {},
     "output_type": "execute_result"
    }
   ],
   "source": [
    "# check if there are float values in text column\n",
    "tweet_clean[tweet_clean.text.str.contains(r'(\\d+(\\.\\d+))\\/(\\d+)')]['text'].values"
   ]
  },
  {
   "cell_type": "code",
   "execution_count": 33,
   "metadata": {},
   "outputs": [],
   "source": [
    "# extract ratings from text column\n",
    "ratings = tweet_clean['text'].str.extract(('(\\d+(\\.\\d+)|(\\d+))\\/(\\d+)'), expand=False)"
   ]
  },
  {
   "cell_type": "code",
   "execution_count": 34,
   "metadata": {},
   "outputs": [],
   "source": [
    "# name ratings column\n",
    "ratings.columns = ['num_float', 'float_decimal', 'num_interger', 'den_interger']"
   ]
  },
  {
   "cell_type": "code",
   "execution_count": 35,
   "metadata": {},
   "outputs": [
    {
     "data": {
      "text/html": [
       "<div>\n",
       "<style>\n",
       "    .dataframe thead tr:only-child th {\n",
       "        text-align: right;\n",
       "    }\n",
       "\n",
       "    .dataframe thead th {\n",
       "        text-align: left;\n",
       "    }\n",
       "\n",
       "    .dataframe tbody tr th {\n",
       "        vertical-align: top;\n",
       "    }\n",
       "</style>\n",
       "<table border=\"1\" class=\"dataframe\">\n",
       "  <thead>\n",
       "    <tr style=\"text-align: right;\">\n",
       "      <th></th>\n",
       "      <th>num_float</th>\n",
       "      <th>float_decimal</th>\n",
       "      <th>num_interger</th>\n",
       "      <th>den_interger</th>\n",
       "    </tr>\n",
       "  </thead>\n",
       "  <tbody>\n",
       "    <tr>\n",
       "      <th>45</th>\n",
       "      <td>13.5</td>\n",
       "      <td>.5</td>\n",
       "      <td>NaN</td>\n",
       "      <td>10</td>\n",
       "    </tr>\n",
       "    <tr>\n",
       "      <th>695</th>\n",
       "      <td>9.75</td>\n",
       "      <td>.75</td>\n",
       "      <td>NaN</td>\n",
       "      <td>10</td>\n",
       "    </tr>\n",
       "    <tr>\n",
       "      <th>763</th>\n",
       "      <td>11.27</td>\n",
       "      <td>.27</td>\n",
       "      <td>NaN</td>\n",
       "      <td>10</td>\n",
       "    </tr>\n",
       "    <tr>\n",
       "      <th>1712</th>\n",
       "      <td>11.26</td>\n",
       "      <td>.26</td>\n",
       "      <td>NaN</td>\n",
       "      <td>10</td>\n",
       "    </tr>\n",
       "  </tbody>\n",
       "</table>\n",
       "</div>"
      ],
      "text/plain": [
       "     num_float float_decimal num_interger den_interger\n",
       "45        13.5            .5          NaN           10\n",
       "695       9.75           .75          NaN           10\n",
       "763      11.27           .27          NaN           10\n",
       "1712     11.26           .26          NaN           10"
      ]
     },
     "execution_count": 35,
     "metadata": {},
     "output_type": "execute_result"
    }
   ],
   "source": [
    "# check if correct float values are extracted from text column\n",
    "ratings[ratings.num_float!=ratings.num_interger]"
   ]
  },
  {
   "cell_type": "code",
   "execution_count": 36,
   "metadata": {},
   "outputs": [],
   "source": [
    "# copy \n",
    "tweet_clean['rating_numerator']=ratings.num_float.astype(float)\n",
    "tweet_clean['rating_denominator']=ratings.den_interger.astype(float)"
   ]
  },
  {
   "cell_type": "markdown",
   "metadata": {},
   "source": [
    "#### Test"
   ]
  },
  {
   "cell_type": "code",
   "execution_count": 37,
   "metadata": {},
   "outputs": [
    {
     "data": {
      "text/plain": [
       "array([  1.30000000e+01,   1.20000000e+01,   1.40000000e+01,\n",
       "         1.35000000e+01,   1.10000000e+01,   1.00000000e+01,\n",
       "         6.00000000e+00,   1.50000000e+01,   0.00000000e+00,\n",
       "         8.40000000e+01,   2.40000000e+01,   9.75000000e+00,\n",
       "         5.00000000e+00,   1.12700000e+01,   3.00000000e+00,\n",
       "         7.00000000e+00,   8.00000000e+00,   9.00000000e+00,\n",
       "         4.00000000e+00,   1.65000000e+02,   1.77600000e+03,\n",
       "         2.04000000e+02,   5.00000000e+01,   9.90000000e+01,\n",
       "         8.00000000e+01,   4.50000000e+01,   6.00000000e+01,\n",
       "         4.40000000e+01,   1.43000000e+02,   1.21000000e+02,\n",
       "         1.12600000e+01,   2.00000000e+00,   1.44000000e+02,\n",
       "         8.80000000e+01,   1.00000000e+00,   4.20000000e+02])"
      ]
     },
     "execution_count": 37,
     "metadata": {},
     "output_type": "execute_result"
    }
   ],
   "source": [
    "tweet_clean.rating_numerator.unique()"
   ]
  },
  {
   "cell_type": "code",
   "execution_count": 38,
   "metadata": {},
   "outputs": [
    {
     "data": {
      "text/plain": [
       "array([  10.,   70.,    7.,  150.,   11.,  170.,   20.,   50.,   90.,\n",
       "         80.,   40.,  130.,  110.,  120.,    2.])"
      ]
     },
     "execution_count": 38,
     "metadata": {},
     "output_type": "execute_result"
    }
   ],
   "source": [
    "tweet_clean.rating_denominator.unique()"
   ]
  },
  {
   "cell_type": "code",
   "execution_count": 39,
   "metadata": {},
   "outputs": [
    {
     "name": "stdout",
     "output_type": "stream",
     "text": [
      "<class 'pandas.core.frame.DataFrame'>\n",
      "Int64Index: 2006 entries, 0 to 2355\n",
      "Data columns (total 17 columns):\n",
      "tweet_id                      2006 non-null int64\n",
      "in_reply_to_status_id         23 non-null float64\n",
      "in_reply_to_user_id           23 non-null float64\n",
      "timestamp                     2006 non-null datetime64[ns]\n",
      "source                        2006 non-null object\n",
      "text                          2006 non-null object\n",
      "retweeted_status_id           13 non-null float64\n",
      "retweeted_status_user_id      13 non-null float64\n",
      "retweeted_status_timestamp    13 non-null datetime64[ns]\n",
      "expanded_urls                 2006 non-null object\n",
      "rating_numerator              2006 non-null float64\n",
      "rating_denominator            2006 non-null float64\n",
      "name                          2006 non-null object\n",
      "doggo                         2006 non-null object\n",
      "floofer                       2006 non-null object\n",
      "pupper                        2006 non-null object\n",
      "puppo                         2006 non-null object\n",
      "dtypes: datetime64[ns](2), float64(6), int64(1), object(8)\n",
      "memory usage: 282.1+ KB\n"
     ]
    }
   ],
   "source": [
    "tweet_clean.info()"
   ]
  },
  {
   "cell_type": "markdown",
   "metadata": {},
   "source": [
    "#### Define\n",
    "- Change in_reply_to_status_id, in_reply_to_user_id, retweeted_status_id, retweeted_status_user_id to str objects"
   ]
  },
  {
   "cell_type": "markdown",
   "metadata": {},
   "source": [
    "#### Clean"
   ]
  },
  {
   "cell_type": "code",
   "execution_count": 40,
   "metadata": {},
   "outputs": [],
   "source": [
    "tweet_clean.in_reply_to_status_id = tweet_clean.in_reply_to_status_id.astype(str)\n",
    "tweet_clean.in_reply_to_user_id = tweet_clean.in_reply_to_user_id.astype(str)\n",
    "tweet_clean.retweeted_status_id = tweet_clean.retweeted_status_id.astype(str)\n",
    "tweet_clean.retweeted_status_user_id = tweet_clean.retweeted_status_user_id.astype(str)"
   ]
  },
  {
   "cell_type": "markdown",
   "metadata": {},
   "source": [
    "#### Test"
   ]
  },
  {
   "cell_type": "code",
   "execution_count": 41,
   "metadata": {},
   "outputs": [
    {
     "name": "stdout",
     "output_type": "stream",
     "text": [
      "<class 'pandas.core.frame.DataFrame'>\n",
      "Int64Index: 2006 entries, 0 to 2355\n",
      "Data columns (total 17 columns):\n",
      "tweet_id                      2006 non-null int64\n",
      "in_reply_to_status_id         2006 non-null object\n",
      "in_reply_to_user_id           2006 non-null object\n",
      "timestamp                     2006 non-null datetime64[ns]\n",
      "source                        2006 non-null object\n",
      "text                          2006 non-null object\n",
      "retweeted_status_id           2006 non-null object\n",
      "retweeted_status_user_id      2006 non-null object\n",
      "retweeted_status_timestamp    13 non-null datetime64[ns]\n",
      "expanded_urls                 2006 non-null object\n",
      "rating_numerator              2006 non-null float64\n",
      "rating_denominator            2006 non-null float64\n",
      "name                          2006 non-null object\n",
      "doggo                         2006 non-null object\n",
      "floofer                       2006 non-null object\n",
      "pupper                        2006 non-null object\n",
      "puppo                         2006 non-null object\n",
      "dtypes: datetime64[ns](2), float64(2), int64(1), object(12)\n",
      "memory usage: 282.1+ KB\n"
     ]
    }
   ],
   "source": [
    "tweet_clean.info()"
   ]
  },
  {
   "cell_type": "markdown",
   "metadata": {},
   "source": [
    "#### Define\n",
    "- Melt stages (doggo, floofer, pupper, puppo) into single column"
   ]
  },
  {
   "cell_type": "markdown",
   "metadata": {},
   "source": [
    "#### Clean"
   ]
  },
  {
   "cell_type": "code",
   "execution_count": 42,
   "metadata": {},
   "outputs": [],
   "source": [
    "tweet_clean = pd.melt(tweet_clean, id_vars=['tweet_id', 'in_reply_to_status_id', 'in_reply_to_user_id', 'timestamp', 'source', 'text',\n",
    "                              'retweeted_status_id', 'retweeted_status_user_id', 'retweeted_status_timestamp',\n",
    "                              'expanded_urls', 'rating_numerator', 'rating_denominator', 'name'],\n",
    "        var_name='stage', value_vars=['doggo', 'floofer', 'pupper', 'puppo'], value_name = 'dog_stage'\n",
    "       )\n"
   ]
  },
  {
   "cell_type": "code",
   "execution_count": 43,
   "metadata": {},
   "outputs": [],
   "source": [
    "# drop the stage column after melting\n",
    "tweet_clean.drop('stage', axis=1, inplace=True)"
   ]
  },
  {
   "cell_type": "code",
   "execution_count": 44,
   "metadata": {},
   "outputs": [],
   "source": [
    "# drop duplicates caused due to melting\n",
    "tweet_clean = tweet_clean.sort_values('dog_stage').drop_duplicates('tweet_id', keep = 'last')"
   ]
  },
  {
   "cell_type": "markdown",
   "metadata": {},
   "source": [
    "#### Test"
   ]
  },
  {
   "cell_type": "code",
   "execution_count": 45,
   "metadata": {},
   "outputs": [
    {
     "data": {
      "text/plain": [
       "NaN        1697\n",
       "pupper      215\n",
       "doggo        63\n",
       "puppo        23\n",
       "floofer       8\n",
       "Name: dog_stage, dtype: int64"
      ]
     },
     "execution_count": 45,
     "metadata": {},
     "output_type": "execute_result"
    }
   ],
   "source": [
    "tweet_clean.dog_stage.value_counts()"
   ]
  },
  {
   "cell_type": "code",
   "execution_count": 46,
   "metadata": {},
   "outputs": [
    {
     "data": {
      "text/plain": [
       "(2006, 14)"
      ]
     },
     "execution_count": 46,
     "metadata": {},
     "output_type": "execute_result"
    }
   ],
   "source": [
    "tweet_clean.shape"
   ]
  },
  {
   "cell_type": "markdown",
   "metadata": {},
   "source": [
    "#### Define\n",
    "- Move data from 3 dataframes to one master"
   ]
  },
  {
   "cell_type": "markdown",
   "metadata": {},
   "source": [
    "#### Clean"
   ]
  },
  {
   "cell_type": "code",
   "execution_count": 47,
   "metadata": {},
   "outputs": [
    {
     "data": {
      "text/plain": [
       "((2006, 12), (2006, 14), (2006, 3))"
      ]
     },
     "execution_count": 47,
     "metadata": {},
     "output_type": "execute_result"
    }
   ],
   "source": [
    "# All three should have same number of rows as they are related to one tweet_id\n",
    "images_clean.shape, tweet_clean.shape, likes_clean.shape"
   ]
  },
  {
   "cell_type": "code",
   "execution_count": 48,
   "metadata": {},
   "outputs": [],
   "source": [
    "# merge tweet_clean and images_clean using tweet_id\n",
    "master_df = tweet_clean.merge(images_clean, on='tweet_id')"
   ]
  },
  {
   "cell_type": "code",
   "execution_count": 49,
   "metadata": {},
   "outputs": [
    {
     "name": "stdout",
     "output_type": "stream",
     "text": [
      "<class 'pandas.core.frame.DataFrame'>\n",
      "Int64Index: 2006 entries, 0 to 2005\n",
      "Data columns (total 25 columns):\n",
      "tweet_id                      2006 non-null int64\n",
      "in_reply_to_status_id         2006 non-null object\n",
      "in_reply_to_user_id           2006 non-null object\n",
      "timestamp                     2006 non-null datetime64[ns]\n",
      "source                        2006 non-null object\n",
      "text                          2006 non-null object\n",
      "retweeted_status_id           2006 non-null object\n",
      "retweeted_status_user_id      2006 non-null object\n",
      "retweeted_status_timestamp    13 non-null datetime64[ns]\n",
      "expanded_urls                 2006 non-null object\n",
      "rating_numerator              2006 non-null float64\n",
      "rating_denominator            2006 non-null float64\n",
      "name                          2006 non-null object\n",
      "dog_stage                     2006 non-null object\n",
      "jpg_url                       2006 non-null object\n",
      "img_num                       2006 non-null int64\n",
      "p1                            2006 non-null object\n",
      "p1_conf                       2006 non-null float64\n",
      "p1_dog                        2006 non-null bool\n",
      "p2                            2006 non-null object\n",
      "p2_conf                       2006 non-null float64\n",
      "p2_dog                        2006 non-null bool\n",
      "p3                            2006 non-null object\n",
      "p3_conf                       2006 non-null float64\n",
      "p3_dog                        2006 non-null bool\n",
      "dtypes: bool(3), datetime64[ns](2), float64(5), int64(2), object(13)\n",
      "memory usage: 366.3+ KB\n"
     ]
    }
   ],
   "source": [
    "master_df.info()"
   ]
  },
  {
   "cell_type": "code",
   "execution_count": 50,
   "metadata": {},
   "outputs": [],
   "source": [
    "# merge master_df and likes_clean on tweet_id\n",
    "master_df = master_df.merge(likes_clean, on='tweet_id')"
   ]
  },
  {
   "cell_type": "markdown",
   "metadata": {},
   "source": [
    "#### Test"
   ]
  },
  {
   "cell_type": "code",
   "execution_count": 51,
   "metadata": {},
   "outputs": [
    {
     "name": "stdout",
     "output_type": "stream",
     "text": [
      "<class 'pandas.core.frame.DataFrame'>\n",
      "Int64Index: 2006 entries, 0 to 2005\n",
      "Data columns (total 27 columns):\n",
      "tweet_id                      2006 non-null int64\n",
      "in_reply_to_status_id         2006 non-null object\n",
      "in_reply_to_user_id           2006 non-null object\n",
      "timestamp                     2006 non-null datetime64[ns]\n",
      "source                        2006 non-null object\n",
      "text                          2006 non-null object\n",
      "retweeted_status_id           2006 non-null object\n",
      "retweeted_status_user_id      2006 non-null object\n",
      "retweeted_status_timestamp    13 non-null datetime64[ns]\n",
      "expanded_urls                 2006 non-null object\n",
      "rating_numerator              2006 non-null float64\n",
      "rating_denominator            2006 non-null float64\n",
      "name                          2006 non-null object\n",
      "dog_stage                     2006 non-null object\n",
      "jpg_url                       2006 non-null object\n",
      "img_num                       2006 non-null int64\n",
      "p1                            2006 non-null object\n",
      "p1_conf                       2006 non-null float64\n",
      "p1_dog                        2006 non-null bool\n",
      "p2                            2006 non-null object\n",
      "p2_conf                       2006 non-null float64\n",
      "p2_dog                        2006 non-null bool\n",
      "p3                            2006 non-null object\n",
      "p3_conf                       2006 non-null float64\n",
      "p3_dog                        2006 non-null bool\n",
      "favorite_count                2006 non-null int64\n",
      "retweet_count                 2006 non-null int64\n",
      "dtypes: bool(3), datetime64[ns](2), float64(5), int64(4), object(13)\n",
      "memory usage: 397.7+ KB\n"
     ]
    }
   ],
   "source": [
    "master_df.info()"
   ]
  },
  {
   "cell_type": "code",
   "execution_count": 52,
   "metadata": {},
   "outputs": [
    {
     "data": {
      "text/html": [
       "<div>\n",
       "<style>\n",
       "    .dataframe thead tr:only-child th {\n",
       "        text-align: right;\n",
       "    }\n",
       "\n",
       "    .dataframe thead th {\n",
       "        text-align: left;\n",
       "    }\n",
       "\n",
       "    .dataframe tbody tr th {\n",
       "        vertical-align: top;\n",
       "    }\n",
       "</style>\n",
       "<table border=\"1\" class=\"dataframe\">\n",
       "  <thead>\n",
       "    <tr style=\"text-align: right;\">\n",
       "      <th></th>\n",
       "      <th>tweet_id</th>\n",
       "      <th>in_reply_to_status_id</th>\n",
       "      <th>in_reply_to_user_id</th>\n",
       "      <th>timestamp</th>\n",
       "      <th>source</th>\n",
       "      <th>text</th>\n",
       "      <th>retweeted_status_id</th>\n",
       "      <th>retweeted_status_user_id</th>\n",
       "      <th>retweeted_status_timestamp</th>\n",
       "      <th>expanded_urls</th>\n",
       "      <th>...</th>\n",
       "      <th>p1_conf</th>\n",
       "      <th>p1_dog</th>\n",
       "      <th>p2</th>\n",
       "      <th>p2_conf</th>\n",
       "      <th>p2_dog</th>\n",
       "      <th>p3</th>\n",
       "      <th>p3_conf</th>\n",
       "      <th>p3_dog</th>\n",
       "      <th>favorite_count</th>\n",
       "      <th>retweet_count</th>\n",
       "    </tr>\n",
       "  </thead>\n",
       "  <tbody>\n",
       "    <tr>\n",
       "      <th>0</th>\n",
       "      <td>667435689202614272</td>\n",
       "      <td>nan</td>\n",
       "      <td>nan</td>\n",
       "      <td>2015-11-19 20:14:03</td>\n",
       "      <td>http://twitter.com/download/iphone</td>\n",
       "      <td>Ermergerd 12/10 https://t.co/PQni2sjPsm</td>\n",
       "      <td>nan</td>\n",
       "      <td>nan</td>\n",
       "      <td>NaT</td>\n",
       "      <td>https://twitter.com/dog_rates/status/667435689...</td>\n",
       "      <td>...</td>\n",
       "      <td>0.999091</td>\n",
       "      <td>True</td>\n",
       "      <td>miniature_pinscher</td>\n",
       "      <td>0.000450</td>\n",
       "      <td>True</td>\n",
       "      <td>black-and-tan_coonhound</td>\n",
       "      <td>0.000157</td>\n",
       "      <td>True</td>\n",
       "      <td>308</td>\n",
       "      <td>85</td>\n",
       "    </tr>\n",
       "    <tr>\n",
       "      <th>1</th>\n",
       "      <td>667437278097252352</td>\n",
       "      <td>nan</td>\n",
       "      <td>nan</td>\n",
       "      <td>2015-11-19 20:20:22</td>\n",
       "      <td>http://twitter.com/download/iphone</td>\n",
       "      <td>Never seen this breed before. Very pointy pup....</td>\n",
       "      <td>nan</td>\n",
       "      <td>nan</td>\n",
       "      <td>NaT</td>\n",
       "      <td>https://twitter.com/dog_rates/status/667437278...</td>\n",
       "      <td>...</td>\n",
       "      <td>0.989154</td>\n",
       "      <td>False</td>\n",
       "      <td>bath_towel</td>\n",
       "      <td>0.006300</td>\n",
       "      <td>False</td>\n",
       "      <td>badger</td>\n",
       "      <td>0.000966</td>\n",
       "      <td>False</td>\n",
       "      <td>453</td>\n",
       "      <td>245</td>\n",
       "    </tr>\n",
       "    <tr>\n",
       "      <th>2</th>\n",
       "      <td>667443425659232256</td>\n",
       "      <td>nan</td>\n",
       "      <td>nan</td>\n",
       "      <td>2015-11-19 20:44:47</td>\n",
       "      <td>http://twitter.com/download/iphone</td>\n",
       "      <td>Exotic dog here. Long neck. Weird paws. Obsess...</td>\n",
       "      <td>nan</td>\n",
       "      <td>nan</td>\n",
       "      <td>NaT</td>\n",
       "      <td>https://twitter.com/dog_rates/status/667443425...</td>\n",
       "      <td>...</td>\n",
       "      <td>0.980815</td>\n",
       "      <td>False</td>\n",
       "      <td>drake</td>\n",
       "      <td>0.006918</td>\n",
       "      <td>False</td>\n",
       "      <td>hen</td>\n",
       "      <td>0.005255</td>\n",
       "      <td>False</td>\n",
       "      <td>800</td>\n",
       "      <td>594</td>\n",
       "    </tr>\n",
       "    <tr>\n",
       "      <th>3</th>\n",
       "      <td>667453023279554560</td>\n",
       "      <td>nan</td>\n",
       "      <td>nan</td>\n",
       "      <td>2015-11-19 21:22:56</td>\n",
       "      <td>http://twitter.com/download/iphone</td>\n",
       "      <td>Meet Cupcake. I would do unspeakable things fo...</td>\n",
       "      <td>nan</td>\n",
       "      <td>nan</td>\n",
       "      <td>NaT</td>\n",
       "      <td>https://twitter.com/dog_rates/status/667453023...</td>\n",
       "      <td>...</td>\n",
       "      <td>0.825670</td>\n",
       "      <td>True</td>\n",
       "      <td>French_bulldog</td>\n",
       "      <td>0.056639</td>\n",
       "      <td>True</td>\n",
       "      <td>Staffordshire_bullterrier</td>\n",
       "      <td>0.054018</td>\n",
       "      <td>True</td>\n",
       "      <td>319</td>\n",
       "      <td>91</td>\n",
       "    </tr>\n",
       "    <tr>\n",
       "      <th>4</th>\n",
       "      <td>667455448082227200</td>\n",
       "      <td>nan</td>\n",
       "      <td>nan</td>\n",
       "      <td>2015-11-19 21:32:34</td>\n",
       "      <td>http://twitter.com/download/iphone</td>\n",
       "      <td>This is Reese and Twips. Reese protects Twips....</td>\n",
       "      <td>nan</td>\n",
       "      <td>nan</td>\n",
       "      <td>NaT</td>\n",
       "      <td>https://twitter.com/dog_rates/status/667455448...</td>\n",
       "      <td>...</td>\n",
       "      <td>0.676376</td>\n",
       "      <td>True</td>\n",
       "      <td>Irish_terrier</td>\n",
       "      <td>0.054933</td>\n",
       "      <td>True</td>\n",
       "      <td>Yorkshire_terrier</td>\n",
       "      <td>0.040576</td>\n",
       "      <td>True</td>\n",
       "      <td>194</td>\n",
       "      <td>60</td>\n",
       "    </tr>\n",
       "  </tbody>\n",
       "</table>\n",
       "<p>5 rows × 27 columns</p>\n",
       "</div>"
      ],
      "text/plain": [
       "             tweet_id in_reply_to_status_id in_reply_to_user_id  \\\n",
       "0  667435689202614272                   nan                 nan   \n",
       "1  667437278097252352                   nan                 nan   \n",
       "2  667443425659232256                   nan                 nan   \n",
       "3  667453023279554560                   nan                 nan   \n",
       "4  667455448082227200                   nan                 nan   \n",
       "\n",
       "            timestamp                              source  \\\n",
       "0 2015-11-19 20:14:03  http://twitter.com/download/iphone   \n",
       "1 2015-11-19 20:20:22  http://twitter.com/download/iphone   \n",
       "2 2015-11-19 20:44:47  http://twitter.com/download/iphone   \n",
       "3 2015-11-19 21:22:56  http://twitter.com/download/iphone   \n",
       "4 2015-11-19 21:32:34  http://twitter.com/download/iphone   \n",
       "\n",
       "                                                text retweeted_status_id  \\\n",
       "0            Ermergerd 12/10 https://t.co/PQni2sjPsm                 nan   \n",
       "1  Never seen this breed before. Very pointy pup....                 nan   \n",
       "2  Exotic dog here. Long neck. Weird paws. Obsess...                 nan   \n",
       "3  Meet Cupcake. I would do unspeakable things fo...                 nan   \n",
       "4  This is Reese and Twips. Reese protects Twips....                 nan   \n",
       "\n",
       "  retweeted_status_user_id retweeted_status_timestamp  \\\n",
       "0                      nan                        NaT   \n",
       "1                      nan                        NaT   \n",
       "2                      nan                        NaT   \n",
       "3                      nan                        NaT   \n",
       "4                      nan                        NaT   \n",
       "\n",
       "                                       expanded_urls      ...        p1_conf  \\\n",
       "0  https://twitter.com/dog_rates/status/667435689...      ...       0.999091   \n",
       "1  https://twitter.com/dog_rates/status/667437278...      ...       0.989154   \n",
       "2  https://twitter.com/dog_rates/status/667443425...      ...       0.980815   \n",
       "3  https://twitter.com/dog_rates/status/667453023...      ...       0.825670   \n",
       "4  https://twitter.com/dog_rates/status/667455448...      ...       0.676376   \n",
       "\n",
       "   p1_dog                  p2   p2_conf p2_dog                         p3  \\\n",
       "0    True  miniature_pinscher  0.000450   True    black-and-tan_coonhound   \n",
       "1   False          bath_towel  0.006300  False                     badger   \n",
       "2   False               drake  0.006918  False                        hen   \n",
       "3    True      French_bulldog  0.056639   True  Staffordshire_bullterrier   \n",
       "4    True       Irish_terrier  0.054933   True          Yorkshire_terrier   \n",
       "\n",
       "    p3_conf  p3_dog  favorite_count retweet_count  \n",
       "0  0.000157    True             308            85  \n",
       "1  0.000966   False             453           245  \n",
       "2  0.005255   False             800           594  \n",
       "3  0.054018    True             319            91  \n",
       "4  0.040576    True             194            60  \n",
       "\n",
       "[5 rows x 27 columns]"
      ]
     },
     "execution_count": 52,
     "metadata": {},
     "output_type": "execute_result"
    }
   ],
   "source": [
    "master_df.head()"
   ]
  },
  {
   "cell_type": "code",
   "execution_count": 53,
   "metadata": {},
   "outputs": [
    {
     "data": {
      "text/plain": [
       "(2006, 27)"
      ]
     },
     "execution_count": 53,
     "metadata": {},
     "output_type": "execute_result"
    }
   ],
   "source": [
    "master_df.shape"
   ]
  },
  {
   "cell_type": "code",
   "execution_count": 54,
   "metadata": {},
   "outputs": [],
   "source": [
    "# write master_df to .csv file\n",
    "master_df.to_csv('twitter_archive_master.csv', index=False)"
   ]
  },
  {
   "cell_type": "code",
   "execution_count": null,
   "metadata": {},
   "outputs": [],
   "source": []
  }
 ],
 "metadata": {
  "kernelspec": {
   "display_name": "Python [default]",
   "language": "python",
   "name": "python3"
  },
  "language_info": {
   "codemirror_mode": {
    "name": "ipython",
    "version": 3
   },
   "file_extension": ".py",
   "mimetype": "text/x-python",
   "name": "python",
   "nbconvert_exporter": "python",
   "pygments_lexer": "ipython3",
   "version": "3.6.5"
  }
 },
 "nbformat": 4,
 "nbformat_minor": 2
}
